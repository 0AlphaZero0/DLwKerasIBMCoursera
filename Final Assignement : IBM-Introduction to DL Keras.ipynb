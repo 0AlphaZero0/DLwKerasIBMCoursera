{
    "cells": [
        {
            "cell_type": "markdown",
            "metadata": {
                "collapsed": true
            },
            "source": "# Coursera : IBM Introduction to Deep Learning with Keras"
        },
        {
            "cell_type": "markdown",
            "metadata": {},
            "source": "##### Downloading data"
        },
        {
            "cell_type": "code",
            "execution_count": 1,
            "metadata": {},
            "outputs": [
                {
                    "data": {
                        "text/html": "<div>\n<style scoped>\n    .dataframe tbody tr th:only-of-type {\n        vertical-align: middle;\n    }\n\n    .dataframe tbody tr th {\n        vertical-align: top;\n    }\n\n    .dataframe thead th {\n        text-align: right;\n    }\n</style>\n<table border=\"1\" class=\"dataframe\">\n  <thead>\n    <tr style=\"text-align: right;\">\n      <th></th>\n      <th>Cement</th>\n      <th>Blast Furnace Slag</th>\n      <th>Fly Ash</th>\n      <th>Water</th>\n      <th>Superplasticizer</th>\n      <th>Coarse Aggregate</th>\n      <th>Fine Aggregate</th>\n      <th>Age</th>\n      <th>Strength</th>\n    </tr>\n  </thead>\n  <tbody>\n    <tr>\n      <th>0</th>\n      <td>540.0</td>\n      <td>0.0</td>\n      <td>0.0</td>\n      <td>162.0</td>\n      <td>2.5</td>\n      <td>1040.0</td>\n      <td>676.0</td>\n      <td>28</td>\n      <td>79.99</td>\n    </tr>\n    <tr>\n      <th>1</th>\n      <td>540.0</td>\n      <td>0.0</td>\n      <td>0.0</td>\n      <td>162.0</td>\n      <td>2.5</td>\n      <td>1055.0</td>\n      <td>676.0</td>\n      <td>28</td>\n      <td>61.89</td>\n    </tr>\n    <tr>\n      <th>2</th>\n      <td>332.5</td>\n      <td>142.5</td>\n      <td>0.0</td>\n      <td>228.0</td>\n      <td>0.0</td>\n      <td>932.0</td>\n      <td>594.0</td>\n      <td>270</td>\n      <td>40.27</td>\n    </tr>\n    <tr>\n      <th>3</th>\n      <td>332.5</td>\n      <td>142.5</td>\n      <td>0.0</td>\n      <td>228.0</td>\n      <td>0.0</td>\n      <td>932.0</td>\n      <td>594.0</td>\n      <td>365</td>\n      <td>41.05</td>\n    </tr>\n    <tr>\n      <th>4</th>\n      <td>198.6</td>\n      <td>132.4</td>\n      <td>0.0</td>\n      <td>192.0</td>\n      <td>0.0</td>\n      <td>978.4</td>\n      <td>825.5</td>\n      <td>360</td>\n      <td>44.30</td>\n    </tr>\n  </tbody>\n</table>\n</div>",
                        "text/plain": "   Cement  Blast Furnace Slag  Fly Ash  Water  Superplasticizer  \\\n0   540.0                 0.0      0.0  162.0               2.5   \n1   540.0                 0.0      0.0  162.0               2.5   \n2   332.5               142.5      0.0  228.0               0.0   \n3   332.5               142.5      0.0  228.0               0.0   \n4   198.6               132.4      0.0  192.0               0.0   \n\n   Coarse Aggregate  Fine Aggregate  Age  Strength  \n0            1040.0           676.0   28     79.99  \n1            1055.0           676.0   28     61.89  \n2             932.0           594.0  270     40.27  \n3             932.0           594.0  365     41.05  \n4             978.4           825.5  360     44.30  "
                    },
                    "execution_count": 1,
                    "metadata": {},
                    "output_type": "execute_result"
                }
            ],
            "source": "import requests\nimport pandas as pd\nimport io\n\nconcrete_data = pd.read_csv(io.StringIO(requests.get(\"https://cocl.us/concrete_data\").text),sep=\",\")\n\nconcrete_data.head()"
        },
        {
            "cell_type": "markdown",
            "metadata": {},
            "source": "Let's get a look to the description of the dataset"
        },
        {
            "cell_type": "code",
            "execution_count": 2,
            "metadata": {},
            "outputs": [
                {
                    "data": {
                        "text/html": "<div>\n<style scoped>\n    .dataframe tbody tr th:only-of-type {\n        vertical-align: middle;\n    }\n\n    .dataframe tbody tr th {\n        vertical-align: top;\n    }\n\n    .dataframe thead th {\n        text-align: right;\n    }\n</style>\n<table border=\"1\" class=\"dataframe\">\n  <thead>\n    <tr style=\"text-align: right;\">\n      <th></th>\n      <th>Cement</th>\n      <th>Blast Furnace Slag</th>\n      <th>Fly Ash</th>\n      <th>Water</th>\n      <th>Superplasticizer</th>\n      <th>Coarse Aggregate</th>\n      <th>Fine Aggregate</th>\n      <th>Age</th>\n      <th>Strength</th>\n    </tr>\n  </thead>\n  <tbody>\n    <tr>\n      <th>count</th>\n      <td>1030.000000</td>\n      <td>1030.000000</td>\n      <td>1030.000000</td>\n      <td>1030.000000</td>\n      <td>1030.000000</td>\n      <td>1030.000000</td>\n      <td>1030.000000</td>\n      <td>1030.000000</td>\n      <td>1030.000000</td>\n    </tr>\n    <tr>\n      <th>mean</th>\n      <td>281.167864</td>\n      <td>73.895825</td>\n      <td>54.188350</td>\n      <td>181.567282</td>\n      <td>6.204660</td>\n      <td>972.918932</td>\n      <td>773.580485</td>\n      <td>45.662136</td>\n      <td>35.817961</td>\n    </tr>\n    <tr>\n      <th>std</th>\n      <td>104.506364</td>\n      <td>86.279342</td>\n      <td>63.997004</td>\n      <td>21.354219</td>\n      <td>5.973841</td>\n      <td>77.753954</td>\n      <td>80.175980</td>\n      <td>63.169912</td>\n      <td>16.705742</td>\n    </tr>\n    <tr>\n      <th>min</th>\n      <td>102.000000</td>\n      <td>0.000000</td>\n      <td>0.000000</td>\n      <td>121.800000</td>\n      <td>0.000000</td>\n      <td>801.000000</td>\n      <td>594.000000</td>\n      <td>1.000000</td>\n      <td>2.330000</td>\n    </tr>\n    <tr>\n      <th>25%</th>\n      <td>192.375000</td>\n      <td>0.000000</td>\n      <td>0.000000</td>\n      <td>164.900000</td>\n      <td>0.000000</td>\n      <td>932.000000</td>\n      <td>730.950000</td>\n      <td>7.000000</td>\n      <td>23.710000</td>\n    </tr>\n    <tr>\n      <th>50%</th>\n      <td>272.900000</td>\n      <td>22.000000</td>\n      <td>0.000000</td>\n      <td>185.000000</td>\n      <td>6.400000</td>\n      <td>968.000000</td>\n      <td>779.500000</td>\n      <td>28.000000</td>\n      <td>34.445000</td>\n    </tr>\n    <tr>\n      <th>75%</th>\n      <td>350.000000</td>\n      <td>142.950000</td>\n      <td>118.300000</td>\n      <td>192.000000</td>\n      <td>10.200000</td>\n      <td>1029.400000</td>\n      <td>824.000000</td>\n      <td>56.000000</td>\n      <td>46.135000</td>\n    </tr>\n    <tr>\n      <th>max</th>\n      <td>540.000000</td>\n      <td>359.400000</td>\n      <td>200.100000</td>\n      <td>247.000000</td>\n      <td>32.200000</td>\n      <td>1145.000000</td>\n      <td>992.600000</td>\n      <td>365.000000</td>\n      <td>82.600000</td>\n    </tr>\n  </tbody>\n</table>\n</div>",
                        "text/plain": "            Cement  Blast Furnace Slag      Fly Ash        Water  \\\ncount  1030.000000         1030.000000  1030.000000  1030.000000   \nmean    281.167864           73.895825    54.188350   181.567282   \nstd     104.506364           86.279342    63.997004    21.354219   \nmin     102.000000            0.000000     0.000000   121.800000   \n25%     192.375000            0.000000     0.000000   164.900000   \n50%     272.900000           22.000000     0.000000   185.000000   \n75%     350.000000          142.950000   118.300000   192.000000   \nmax     540.000000          359.400000   200.100000   247.000000   \n\n       Superplasticizer  Coarse Aggregate  Fine Aggregate          Age  \\\ncount       1030.000000       1030.000000     1030.000000  1030.000000   \nmean           6.204660        972.918932      773.580485    45.662136   \nstd            5.973841         77.753954       80.175980    63.169912   \nmin            0.000000        801.000000      594.000000     1.000000   \n25%            0.000000        932.000000      730.950000     7.000000   \n50%            6.400000        968.000000      779.500000    28.000000   \n75%           10.200000       1029.400000      824.000000    56.000000   \nmax           32.200000       1145.000000      992.600000   365.000000   \n\n          Strength  \ncount  1030.000000  \nmean     35.817961  \nstd      16.705742  \nmin       2.330000  \n25%      23.710000  \n50%      34.445000  \n75%      46.135000  \nmax      82.600000  "
                    },
                    "execution_count": 2,
                    "metadata": {},
                    "output_type": "execute_result"
                }
            ],
            "source": "concrete_data.describe()"
        },
        {
            "cell_type": "code",
            "execution_count": 3,
            "metadata": {},
            "outputs": [
                {
                    "data": {
                        "text/html": "<div>\n<style scoped>\n    .dataframe tbody tr th:only-of-type {\n        vertical-align: middle;\n    }\n\n    .dataframe tbody tr th {\n        vertical-align: top;\n    }\n\n    .dataframe thead th {\n        text-align: right;\n    }\n</style>\n<table border=\"1\" class=\"dataframe\">\n  <thead>\n    <tr style=\"text-align: right;\">\n      <th></th>\n      <th>Cement</th>\n      <th>Blast Furnace Slag</th>\n      <th>Fly Ash</th>\n      <th>Water</th>\n      <th>Superplasticizer</th>\n      <th>Coarse Aggregate</th>\n      <th>Fine Aggregate</th>\n      <th>Age</th>\n    </tr>\n  </thead>\n  <tbody>\n    <tr>\n      <th>0</th>\n      <td>540.0</td>\n      <td>0.0</td>\n      <td>0.0</td>\n      <td>162.0</td>\n      <td>2.5</td>\n      <td>1040.0</td>\n      <td>676.0</td>\n      <td>28</td>\n    </tr>\n    <tr>\n      <th>1</th>\n      <td>540.0</td>\n      <td>0.0</td>\n      <td>0.0</td>\n      <td>162.0</td>\n      <td>2.5</td>\n      <td>1055.0</td>\n      <td>676.0</td>\n      <td>28</td>\n    </tr>\n    <tr>\n      <th>2</th>\n      <td>332.5</td>\n      <td>142.5</td>\n      <td>0.0</td>\n      <td>228.0</td>\n      <td>0.0</td>\n      <td>932.0</td>\n      <td>594.0</td>\n      <td>270</td>\n    </tr>\n    <tr>\n      <th>3</th>\n      <td>332.5</td>\n      <td>142.5</td>\n      <td>0.0</td>\n      <td>228.0</td>\n      <td>0.0</td>\n      <td>932.0</td>\n      <td>594.0</td>\n      <td>365</td>\n    </tr>\n    <tr>\n      <th>4</th>\n      <td>198.6</td>\n      <td>132.4</td>\n      <td>0.0</td>\n      <td>192.0</td>\n      <td>0.0</td>\n      <td>978.4</td>\n      <td>825.5</td>\n      <td>360</td>\n    </tr>\n  </tbody>\n</table>\n</div>",
                        "text/plain": "   Cement  Blast Furnace Slag  Fly Ash  Water  Superplasticizer  \\\n0   540.0                 0.0      0.0  162.0               2.5   \n1   540.0                 0.0      0.0  162.0               2.5   \n2   332.5               142.5      0.0  228.0               0.0   \n3   332.5               142.5      0.0  228.0               0.0   \n4   198.6               132.4      0.0  192.0               0.0   \n\n   Coarse Aggregate  Fine Aggregate  Age  \n0            1040.0           676.0   28  \n1            1055.0           676.0   28  \n2             932.0           594.0  270  \n3             932.0           594.0  365  \n4             978.4           825.5  360  "
                    },
                    "execution_count": 3,
                    "metadata": {},
                    "output_type": "execute_result"
                }
            ],
            "source": "target = concrete_data['Strength']\n\npredictors = concrete_data[concrete_data.columns[concrete_data.columns != 'Strength']]\nn_cols = predictors.shape[1]\npredictors.head()"
        },
        {
            "cell_type": "markdown",
            "metadata": {},
            "source": "### A. Build a baseline model (5 marks) \n\nUse the Keras library to build a neural network with the following:\n\n- One hidden layer of 10 nodes, and a ReLU activation function\n\n- Use the adam optimizer and the mean squared error  as the loss function.\n\n1. Randomly split the data into a training and test sets by holding 30% of the data for testing. You can use the train_test_split helper function from Scikit-learn.\n\n2. Train the model on the training data using 50 epochs.\n\n3. Evaluate the model on the test data and compute the mean squared error between the predicted concrete strength and the actual concrete strength. You can use the mean_squared_error function from Scikit-learn.\n\n4. Repeat steps 1 - 3, 50 times, i.e., create a list of 50 mean squared errors.\n\n5. Report the mean and the standard deviation of the mean squared errors.\n\nSubmit your Jupyter Notebook with your code and comments."
        },
        {
            "cell_type": "code",
            "execution_count": 4,
            "metadata": {},
            "outputs": [
                {
                    "name": "stdout",
                    "output_type": "stream",
                    "text": "2.4.0\n"
                }
            ],
            "source": "# Importing libraries / keras is not available in IBM Watson Studio a solution can be to use tensorflow to import it\nimport tensorflow.keras as keras\n\nfrom tensorflow.keras.models import Sequential\nfrom tensorflow.keras.layers import Dense\n\nprint(keras.__version__)"
        },
        {
            "cell_type": "code",
            "execution_count": 5,
            "metadata": {},
            "outputs": [
                {
                    "name": "stdout",
                    "output_type": "stream",
                    "text": "There are \u001b[36;1m8 predictors\u001b[0m and \u001b[34;1m1 target\u001b[0m for 1030 observations.\nThere are \u001b[1m721 observations\u001b[0m in the training set and \u001b[1m309\u001b[0m in the test set.\n"
                }
            ],
            "source": "# 1. Data preparation - A\nfrom sklearn.model_selection import train_test_split\n\nX_train, X_test, y_train, y_test = train_test_split(predictors, target, test_size=0.3)\n\nprint(f\"There are \\033[36;1m{predictors.shape[1]} predictors\\033[0m and \\033[34;1m{concrete_data.shape[1]-predictors.shape[1]} target\\033[0m for {predictors.shape[0]} observations.\")\nprint(f\"There are \\033[1m{X_train.shape[0]} observations\\033[0m in the training set and \\033[1m{X_test.shape[0]}\\033[0m in the test set.\")"
        },
        {
            "cell_type": "code",
            "execution_count": 6,
            "metadata": {},
            "outputs": [
                {
                    "name": "stdout",
                    "output_type": "stream",
                    "text": "Epoch 1/50\n23/23 [==============================] - 1s 14ms/step - loss: 2697.6992\nEpoch 2/50\n23/23 [==============================] - 0s 11ms/step - loss: 2051.5616\nEpoch 3/50\n23/23 [==============================] - 0s 7ms/step - loss: 1554.1434\nEpoch 4/50\n23/23 [==============================] - 0s 4ms/step - loss: 1266.8323\nEpoch 5/50\n23/23 [==============================] - 0s 6ms/step - loss: 988.8845\nEpoch 6/50\n23/23 [==============================] - 0s 11ms/step - loss: 738.3234\nEpoch 7/50\n23/23 [==============================] - 0s 8ms/step - loss: 626.8298\nEpoch 8/50\n23/23 [==============================] - 0s 5ms/step - loss: 465.4209\nEpoch 9/50\n23/23 [==============================] - 0s 10ms/step - loss: 373.5129\nEpoch 10/50\n23/23 [==============================] - 0s 9ms/step - loss: 334.1561\nEpoch 11/50\n23/23 [==============================] - 0s 11ms/step - loss: 261.0258\nEpoch 12/50\n23/23 [==============================] - 0s 3ms/step - loss: 225.8549\nEpoch 13/50\n23/23 [==============================] - 0s 3ms/step - loss: 201.2014\nEpoch 14/50\n23/23 [==============================] - 0s 8ms/step - loss: 188.0236\nEpoch 15/50\n23/23 [==============================] - 0s 8ms/step - loss: 166.8375\nEpoch 16/50\n23/23 [==============================] - 0s 6ms/step - loss: 155.8743\nEpoch 17/50\n23/23 [==============================] - 0s 3ms/step - loss: 131.4623\nEpoch 18/50\n23/23 [==============================] - 0s 7ms/step - loss: 129.4598A: 1s - loss: 121.17\nEpoch 19/50\n23/23 [==============================] - 0s 17ms/step - loss: 134.0371\nEpoch 20/50\n23/23 [==============================] - 0s 5ms/step - loss: 114.6989\nEpoch 21/50\n23/23 [==============================] - 0s 4ms/step - loss: 120.9825\nEpoch 22/50\n23/23 [==============================] - 0s 14ms/step - loss: 127.3844\nEpoch 23/50\n23/23 [==============================] - 0s 5ms/step - loss: 118.9458\nEpoch 24/50\n23/23 [==============================] - 0s 6ms/step - loss: 116.7721\nEpoch 25/50\n23/23 [==============================] - 0s 8ms/step - loss: 114.1996\nEpoch 26/50\n23/23 [==============================] - 0s 8ms/step - loss: 117.2227\nEpoch 27/50\n23/23 [==============================] - 0s 2ms/step - loss: 123.5874\nEpoch 28/50\n23/23 [==============================] - 0s 1ms/step - loss: 112.6914\nEpoch 29/50\n23/23 [==============================] - 0s 4ms/step - loss: 116.8582\nEpoch 30/50\n23/23 [==============================] - 0s 1ms/step - loss: 121.5796\nEpoch 31/50\n23/23 [==============================] - 0s 3ms/step - loss: 116.9436\nEpoch 32/50\n23/23 [==============================] - 0s 3ms/step - loss: 109.0915\nEpoch 33/50\n23/23 [==============================] - 0s 2ms/step - loss: 113.5541\nEpoch 34/50\n23/23 [==============================] - 0s 1ms/step - loss: 118.1925\nEpoch 35/50\n23/23 [==============================] - 0s 2ms/step - loss: 117.5639\nEpoch 36/50\n23/23 [==============================] - 0s 999us/step - loss: 111.6898\nEpoch 37/50\n23/23 [==============================] - 0s 2ms/step - loss: 113.5870\nEpoch 38/50\n23/23 [==============================] - 0s 2ms/step - loss: 114.7500\nEpoch 39/50\n23/23 [==============================] - 0s 2ms/step - loss: 104.0404\nEpoch 40/50\n23/23 [==============================] - 0s 1ms/step - loss: 121.2018\nEpoch 41/50\n23/23 [==============================] - 0s 996us/step - loss: 114.3842\nEpoch 42/50\n23/23 [==============================] - 0s 2ms/step - loss: 110.3035\nEpoch 43/50\n23/23 [==============================] - 0s 2ms/step - loss: 110.8279\nEpoch 44/50\n23/23 [==============================] - 0s 1ms/step - loss: 111.2751\nEpoch 45/50\n23/23 [==============================] - 0s 2ms/step - loss: 100.3866\nEpoch 46/50\n23/23 [==============================] - 0s 1ms/step - loss: 109.1608\nEpoch 47/50\n23/23 [==============================] - 0s 993us/step - loss: 107.6726\nEpoch 48/50\n23/23 [==============================] - 0s 1ms/step - loss: 107.0787\nEpoch 49/50\n23/23 [==============================] - 0s 2ms/step - loss: 111.9833\nEpoch 50/50\n23/23 [==============================] - 0s 2ms/step - loss: 109.6690\n"
                },
                {
                    "data": {
                        "text/plain": "<tensorflow.python.keras.callbacks.History at 0x7fb224606350>"
                    },
                    "execution_count": 6,
                    "metadata": {},
                    "output_type": "execute_result"
                }
            ],
            "source": "# 2. Model and training - A\nmodel = Sequential()\nmodel.add(Dense(10,activation='relu',input_shape=(n_cols,)))\nmodel.add(Dense(1))\n\nmodel.compile(optimizer='adam',loss='mean_squared_error')\n\nmodel.fit(X_train,y_train,epochs=50)"
        },
        {
            "cell_type": "code",
            "execution_count": 7,
            "metadata": {},
            "outputs": [
                {
                    "name": "stdout",
                    "output_type": "stream",
                    "text": "The mean squared error of this model is \u001b[1m111.226\u001b[0m.\n"
                }
            ],
            "source": "# 3. Model evaluation - A\nfrom sklearn.metrics import mean_squared_error\na_baseline_mse = mean_squared_error(y_test,model.predict(X_test))\n\nprint(f\"The mean squared error of this model is \\033[1m{round(a_baseline_mse,3)}\\033[0m.\")"
        },
        {
            "cell_type": "code",
            "execution_count": 8,
            "metadata": {},
            "outputs": [
                {
                    "name": "stdout",
                    "output_type": "stream",
                    "text": "\u001b[1mComputation of the mean squared error number 50\u001b[0m.\nEpoch 1/50\n23/23 [==============================] - 0s 991us/step - loss: 376182.5560\nEpoch 2/50\n23/23 [==============================] - 0s 1ms/step - loss: 223629.1120\nEpoch 3/50\n23/23 [==============================] - 0s 1ms/step - loss: 128383.8265\nEpoch 4/50\n23/23 [==============================] - 0s 1ms/step - loss: 69536.9367\nEpoch 5/50\n23/23 [==============================] - 0s 1ms/step - loss: 40047.0942\nEpoch 6/50\n23/23 [==============================] - 0s 991us/step - loss: 19293.8092\nEpoch 7/50\n23/23 [==============================] - 0s 979us/step - loss: 12261.9415\nEpoch 8/50\n23/23 [==============================] - 0s 988us/step - loss: 6287.2880\nEpoch 9/50\n23/23 [==============================] - 0s 1ms/step - loss: 4891.8320\nEpoch 10/50\n23/23 [==============================] - 0s 999us/step - loss: 3899.7495\nEpoch 11/50\n23/23 [==============================] - 0s 999us/step - loss: 3881.4683\nEpoch 12/50\n23/23 [==============================] - 0s 972us/step - loss: 3586.9025\nEpoch 13/50\n23/23 [==============================] - 0s 952us/step - loss: 3330.6155\nEpoch 14/50\n23/23 [==============================] - 0s 965us/step - loss: 3464.5717\nEpoch 15/50\n23/23 [==============================] - 0s 933us/step - loss: 3192.8710\nEpoch 16/50\n23/23 [==============================] - 0s 924us/step - loss: 2994.7077\nEpoch 17/50\n23/23 [==============================] - 0s 949us/step - loss: 2804.5893\nEpoch 18/50\n23/23 [==============================] - 0s 988us/step - loss: 2929.3294\nEpoch 19/50\n23/23 [==============================] - 0s 981us/step - loss: 2618.0655\nEpoch 20/50\n23/23 [==============================] - 0s 982us/step - loss: 2701.4704\nEpoch 21/50\n23/23 [==============================] - 0s 1ms/step - loss: 2493.3011\nEpoch 22/50\n23/23 [==============================] - 0s 994us/step - loss: 2306.7959\nEpoch 23/50\n23/23 [==============================] - 0s 1ms/step - loss: 2251.9623\nEpoch 24/50\n23/23 [==============================] - 0s 962us/step - loss: 2276.6978\nEpoch 25/50\n23/23 [==============================] - 0s 1ms/step - loss: 2121.9887\nEpoch 26/50\n23/23 [==============================] - 0s 970us/step - loss: 2155.7116\nEpoch 27/50\n23/23 [==============================] - 0s 980us/step - loss: 1939.0112\nEpoch 28/50\n23/23 [==============================] - 0s 962us/step - loss: 2049.5331\nEpoch 29/50\n23/23 [==============================] - 0s 954us/step - loss: 1843.6429\nEpoch 30/50\n23/23 [==============================] - 0s 963us/step - loss: 1768.9000\nEpoch 31/50\n23/23 [==============================] - 0s 1ms/step - loss: 1780.2835\nEpoch 32/50\n23/23 [==============================] - 0s 971us/step - loss: 1626.0176\nEpoch 33/50\n23/23 [==============================] - 0s 949us/step - loss: 1629.2230\nEpoch 34/50\n23/23 [==============================] - 0s 1ms/step - loss: 1613.3917\nEpoch 35/50\n23/23 [==============================] - 0s 994us/step - loss: 1562.7034\nEpoch 36/50\n23/23 [==============================] - 0s 937us/step - loss: 1439.3346\nEpoch 37/50\n23/23 [==============================] - 0s 919us/step - loss: 1482.8082\nEpoch 38/50\n23/23 [==============================] - 0s 947us/step - loss: 1326.5563\nEpoch 39/50\n23/23 [==============================] - 0s 960us/step - loss: 1289.9270\nEpoch 40/50\n23/23 [==============================] - 0s 1ms/step - loss: 1280.9301\nEpoch 41/50\n23/23 [==============================] - 0s 928us/step - loss: 1187.6452\nEpoch 42/50\n23/23 [==============================] - 0s 948us/step - loss: 1187.0367\nEpoch 43/50\n23/23 [==============================] - 0s 941us/step - loss: 1132.4115\nEpoch 44/50\n23/23 [==============================] - 0s 952us/step - loss: 1119.4211\nEpoch 45/50\n23/23 [==============================] - 0s 951us/step - loss: 1071.7195\nEpoch 46/50\n23/23 [==============================] - 0s 959us/step - loss: 1042.5348\nEpoch 47/50\n23/23 [==============================] - 0s 962us/step - loss: 1090.5294\nEpoch 48/50\n23/23 [==============================] - 0s 984us/step - loss: 944.5328\nEpoch 49/50\n23/23 [==============================] - 0s 994us/step - loss: 971.1815\nEpoch 50/50\n23/23 [==============================] - 0s 972us/step - loss: 932.4946\n"
                }
            ],
            "source": "# 4. Repeat 50 times - A\nfrom IPython.display import clear_output\n\nmse_50_baseline = []\n\nfor x in range(1,51):\n    clear_output(wait=True)\n    print(f\"\\033[1mComputation of the mean squared error number {x}\\033[0m.\")\n    \n    X_train, X_test, y_train, y_test = train_test_split(predictors, target, test_size=0.3)\n    model = Sequential()\n    model.add(Dense(10,activation='relu',input_shape=(n_cols,)))\n    model.add(Dense(1))\n\n    model.compile(optimizer='adam',loss='mean_squared_error')\n\n    model.fit(X_train,y_train,epochs=50)\n    \n    mse_50_baseline.append(mean_squared_error(y_test,model.predict(X_test)))"
        },
        {
            "cell_type": "code",
            "execution_count": 9,
            "metadata": {},
            "outputs": [
                {
                    "name": "stdout",
                    "output_type": "stream",
                    "text": "The mean of 50 mean squared errors for this model is \u001b[31;1m485.554\u001b[0m.\nThe standard deviation of those mean squared errors is \u001b[31;1m625.889\u001b[0m.\n"
                }
            ],
            "source": "# 5. Mean and standard deviation - A\nimport statistics\n\nmean_baseline_mse = sum(mse_50_baseline)/len(mse_50_baseline)\nstdev_baseline_mse = statistics.stdev(mse_50_baseline)\n\nprint(f\"The mean of {len(mse_50_baseline)} mean squared errors for this model is \\033[31;1m{round(mean_baseline_mse,3)}\\033[0m.\\nThe standard deviation of those mean squared errors is \\033[31;1m{round(stdev_baseline_mse,3)}\\033[0m.\")"
        },
        {
            "cell_type": "markdown",
            "metadata": {},
            "source": "### B. Normalize the data (5 marks) \n\nRepeat Part A but use a normalized version of the data. Recall that one way to normalize the data is by subtracting the mean from the individual predictors and dividing by the standard deviation.\n\nHow does the mean of the mean squared errors compare to that from Step A?\n\n"
        },
        {
            "cell_type": "code",
            "execution_count": 10,
            "metadata": {},
            "outputs": [
                {
                    "name": "stdout",
                    "output_type": "stream",
                    "text": "2.4.0\n"
                }
            ],
            "source": "# Importing libraries / keras is not available in IBM Watson Studio a solution can be to use tensorflow to import it\nimport tensorflow.keras as keras\n\nfrom tensorflow.keras.models import Sequential\nfrom tensorflow.keras.layers import Dense\n\nprint(keras.__version__)"
        },
        {
            "cell_type": "code",
            "execution_count": 11,
            "metadata": {},
            "outputs": [
                {
                    "name": "stdout",
                    "output_type": "stream",
                    "text": "There are \u001b[36;1m8 predictors\u001b[0m and \u001b[34;1m1 target\u001b[0m for 1030 observations.\nThere are \u001b[1m721 observations\u001b[0m in the training set and \u001b[1m309\u001b[0m in the test set.\n"
                }
            ],
            "source": "# 1. Data preparation - B\nfrom sklearn.model_selection import train_test_split\n\npredictors_normalized = (predictors - predictors.mean()) / predictors.std()\n\nX_train, X_test, y_train, y_test = train_test_split(predictors_normalized, target, test_size=0.3)\n\nprint(f\"There are \\033[36;1m{predictors.shape[1]} predictors\\033[0m and \\033[34;1m{concrete_data.shape[1]-predictors.shape[1]} target\\033[0m for {predictors.shape[0]} observations.\")\nprint(f\"There are \\033[1m{X_train.shape[0]} observations\\033[0m in the training set and \\033[1m{X_test.shape[0]}\\033[0m in the test set.\")"
        },
        {
            "cell_type": "code",
            "execution_count": 12,
            "metadata": {},
            "outputs": [
                {
                    "name": "stdout",
                    "output_type": "stream",
                    "text": "Epoch 1/50\n23/23 [==============================] - 0s 1ms/step - loss: 1495.3730\nEpoch 2/50\n23/23 [==============================] - 0s 946us/step - loss: 1533.1501\nEpoch 3/50\n23/23 [==============================] - 0s 988us/step - loss: 1396.2395\nEpoch 4/50\n23/23 [==============================] - 0s 1ms/step - loss: 1385.6777\nEpoch 5/50\n23/23 [==============================] - 0s 980us/step - loss: 1391.0853\nEpoch 6/50\n23/23 [==============================] - 0s 982us/step - loss: 1368.8864\nEpoch 7/50\n23/23 [==============================] - 0s 936us/step - loss: 1385.2689\nEpoch 8/50\n23/23 [==============================] - 0s 954us/step - loss: 1436.2221\nEpoch 9/50\n23/23 [==============================] - 0s 991us/step - loss: 1317.6819\nEpoch 10/50\n23/23 [==============================] - 0s 950us/step - loss: 1369.5697\nEpoch 11/50\n23/23 [==============================] - 0s 1ms/step - loss: 1260.0047\nEpoch 12/50\n23/23 [==============================] - 0s 1ms/step - loss: 1268.6708\nEpoch 13/50\n23/23 [==============================] - 0s 927us/step - loss: 1218.9127\nEpoch 14/50\n23/23 [==============================] - 0s 1ms/step - loss: 1285.9875\nEpoch 15/50\n23/23 [==============================] - 0s 950us/step - loss: 1203.4924\nEpoch 16/50\n23/23 [==============================] - 0s 984us/step - loss: 1199.8596\nEpoch 17/50\n23/23 [==============================] - 0s 928us/step - loss: 1079.6985\nEpoch 18/50\n23/23 [==============================] - 0s 1ms/step - loss: 1067.9510\nEpoch 19/50\n23/23 [==============================] - 0s 1ms/step - loss: 1064.5219\nEpoch 20/50\n23/23 [==============================] - 0s 1ms/step - loss: 995.6485\nEpoch 21/50\n23/23 [==============================] - 0s 959us/step - loss: 997.6723\nEpoch 22/50\n23/23 [==============================] - 0s 1ms/step - loss: 918.5196\nEpoch 23/50\n23/23 [==============================] - 0s 970us/step - loss: 900.2078\nEpoch 24/50\n23/23 [==============================] - 0s 974us/step - loss: 845.9166\nEpoch 25/50\n23/23 [==============================] - 0s 1ms/step - loss: 794.1079\nEpoch 26/50\n23/23 [==============================] - 0s 978us/step - loss: 760.1225\nEpoch 27/50\n23/23 [==============================] - 0s 965us/step - loss: 730.6531\nEpoch 28/50\n23/23 [==============================] - 0s 971us/step - loss: 693.8174\nEpoch 29/50\n23/23 [==============================] - 0s 1ms/step - loss: 639.4161\nEpoch 30/50\n23/23 [==============================] - 0s 1ms/step - loss: 622.9455\nEpoch 31/50\n23/23 [==============================] - 0s 1ms/step - loss: 628.9926\nEpoch 32/50\n23/23 [==============================] - 0s 990us/step - loss: 576.2882\nEpoch 33/50\n23/23 [==============================] - 0s 994us/step - loss: 550.7801\nEpoch 34/50\n23/23 [==============================] - 0s 1ms/step - loss: 498.1942\nEpoch 35/50\n23/23 [==============================] - 0s 1ms/step - loss: 515.4775\nEpoch 36/50\n23/23 [==============================] - 0s 1ms/step - loss: 443.6836\nEpoch 37/50\n23/23 [==============================] - 0s 977us/step - loss: 450.4968\nEpoch 38/50\n23/23 [==============================] - 0s 985us/step - loss: 438.0003\nEpoch 39/50\n23/23 [==============================] - 0s 1ms/step - loss: 422.9778\nEpoch 40/50\n23/23 [==============================] - 0s 969us/step - loss: 411.2107\nEpoch 41/50\n23/23 [==============================] - 0s 1ms/step - loss: 360.1600\nEpoch 42/50\n23/23 [==============================] - 0s 1ms/step - loss: 343.5577\nEpoch 43/50\n23/23 [==============================] - 0s 1ms/step - loss: 348.0452\nEpoch 44/50\n23/23 [==============================] - 0s 970us/step - loss: 322.0133\nEpoch 45/50\n23/23 [==============================] - 0s 981us/step - loss: 311.0159\nEpoch 46/50\n23/23 [==============================] - 0s 1ms/step - loss: 273.7025\nEpoch 47/50\n23/23 [==============================] - 0s 1ms/step - loss: 295.6996\nEpoch 48/50\n23/23 [==============================] - 0s 975us/step - loss: 289.5281\nEpoch 49/50\n23/23 [==============================] - 0s 979us/step - loss: 246.9783\nEpoch 50/50\n23/23 [==============================] - 0s 962us/step - loss: 257.9339\n"
                },
                {
                    "data": {
                        "text/plain": "<tensorflow.python.keras.callbacks.History at 0x7fb1e87d8650>"
                    },
                    "execution_count": 12,
                    "metadata": {},
                    "output_type": "execute_result"
                }
            ],
            "source": "# 2. Model and training - B\nmodel_norm = Sequential()\nmodel_norm.add(Dense(10,activation='relu',input_shape=(n_cols,)))\nmodel_norm.add(Dense(1))\n\nmodel_norm.compile(optimizer='adam',loss='mean_squared_error')\n\nmodel_norm.fit(X_train,y_train,epochs=50)"
        },
        {
            "cell_type": "code",
            "execution_count": 13,
            "metadata": {},
            "outputs": [
                {
                    "name": "stdout",
                    "output_type": "stream",
                    "text": "The mean squared error of this model is \u001b[1m256.534\u001b[0m.\n"
                }
            ],
            "source": "# 3. Model evaluation - B\nfrom sklearn.metrics import mean_squared_error\na_normalized_mse = mean_squared_error(y_test,model_norm.predict(X_test))\n\nprint(f\"The mean squared error of this model is \\033[1m{round(a_normalized_mse,3)}\\033[0m.\")"
        },
        {
            "cell_type": "code",
            "execution_count": 14,
            "metadata": {
                "scrolled": true
            },
            "outputs": [
                {
                    "name": "stdout",
                    "output_type": "stream",
                    "text": "\u001b[1mComputation of the mean squared error number 50\u001b[0m.\nEpoch 1/50\n23/23 [==============================] - 0s 1ms/step - loss: 1482.5903\nEpoch 2/50\n23/23 [==============================] - 0s 1ms/step - loss: 1533.6655\nEpoch 3/50\n23/23 [==============================] - 0s 1ms/step - loss: 1524.2028\nEpoch 4/50\n23/23 [==============================] - 0s 1ms/step - loss: 1544.1822\nEpoch 5/50\n23/23 [==============================] - 0s 1ms/step - loss: 1384.5306\nEpoch 6/50\n23/23 [==============================] - 0s 1ms/step - loss: 1500.8481\nEpoch 7/50\n23/23 [==============================] - 0s 998us/step - loss: 1431.6420\nEpoch 8/50\n23/23 [==============================] - 0s 953us/step - loss: 1425.2959\nEpoch 9/50\n23/23 [==============================] - 0s 966us/step - loss: 1349.5390\nEpoch 10/50\n23/23 [==============================] - 0s 951us/step - loss: 1337.6440\nEpoch 11/50\n23/23 [==============================] - 0s 953us/step - loss: 1339.2993\nEpoch 12/50\n23/23 [==============================] - 0s 959us/step - loss: 1302.3393\nEpoch 13/50\n23/23 [==============================] - 0s 945us/step - loss: 1289.7436\nEpoch 14/50\n23/23 [==============================] - 0s 940us/step - loss: 1271.5757\nEpoch 15/50\n23/23 [==============================] - 0s 944us/step - loss: 1154.0940\nEpoch 16/50\n23/23 [==============================] - 0s 949us/step - loss: 1211.5015\nEpoch 17/50\n23/23 [==============================] - 0s 965us/step - loss: 1170.5204\nEpoch 18/50\n23/23 [==============================] - 0s 963us/step - loss: 1136.7946\nEpoch 19/50\n23/23 [==============================] - 0s 956us/step - loss: 1033.8593\nEpoch 20/50\n23/23 [==============================] - 0s 944us/step - loss: 1009.9684\nEpoch 21/50\n23/23 [==============================] - 0s 962us/step - loss: 1024.0722\nEpoch 22/50\n23/23 [==============================] - 0s 927us/step - loss: 956.1252\nEpoch 23/50\n23/23 [==============================] - 0s 925us/step - loss: 964.3040\nEpoch 24/50\n23/23 [==============================] - 0s 934us/step - loss: 984.9970\nEpoch 25/50\n23/23 [==============================] - 0s 943us/step - loss: 947.7892\nEpoch 26/50\n23/23 [==============================] - 0s 937us/step - loss: 984.7529\nEpoch 27/50\n23/23 [==============================] - 0s 951us/step - loss: 831.6660\nEpoch 28/50\n23/23 [==============================] - 0s 960us/step - loss: 868.4289\nEpoch 29/50\n23/23 [==============================] - 0s 977us/step - loss: 805.6065\nEpoch 30/50\n23/23 [==============================] - 0s 979us/step - loss: 782.4890\nEpoch 31/50\n23/23 [==============================] - 0s 948us/step - loss: 764.7643\nEpoch 32/50\n23/23 [==============================] - 0s 1ms/step - loss: 703.4076\nEpoch 33/50\n23/23 [==============================] - 0s 1ms/step - loss: 708.8223\nEpoch 34/50\n23/23 [==============================] - 0s 999us/step - loss: 682.7471\nEpoch 35/50\n23/23 [==============================] - 0s 999us/step - loss: 678.3509\nEpoch 36/50\n23/23 [==============================] - 0s 1ms/step - loss: 637.0046\nEpoch 37/50\n23/23 [==============================] - 0s 966us/step - loss: 594.4783\nEpoch 38/50\n23/23 [==============================] - 0s 971us/step - loss: 623.2914\nEpoch 39/50\n23/23 [==============================] - 0s 999us/step - loss: 556.1704\nEpoch 40/50\n23/23 [==============================] - 0s 1ms/step - loss: 602.9505\nEpoch 41/50\n23/23 [==============================] - 0s 997us/step - loss: 511.2726\nEpoch 42/50\n23/23 [==============================] - 0s 1ms/step - loss: 509.1571\nEpoch 43/50\n23/23 [==============================] - 0s 1ms/step - loss: 485.5896\nEpoch 44/50\n23/23 [==============================] - 0s 1ms/step - loss: 459.3668\nEpoch 45/50\n23/23 [==============================] - 0s 996us/step - loss: 432.2334\nEpoch 46/50\n23/23 [==============================] - 0s 994us/step - loss: 433.0798\nEpoch 47/50\n23/23 [==============================] - 0s 991us/step - loss: 386.4576\nEpoch 48/50\n23/23 [==============================] - 0s 1ms/step - loss: 357.2965\nEpoch 49/50\n23/23 [==============================] - 0s 983us/step - loss: 373.1164\nEpoch 50/50\n23/23 [==============================] - 0s 991us/step - loss: 362.2713\n"
                }
            ],
            "source": "# 4. Repeat 50 times - B\nfrom IPython.display import clear_output\n\nmse_50_norm = []\n\nfor x in range(1,51):\n    clear_output(wait=True)\n    print(f\"\\033[1mComputation of the mean squared error number {x}\\033[0m.\")\n    \n    X_train, X_test, y_train, y_test = train_test_split(predictors_normalized, target, test_size=0.3)\n    model_norm = Sequential()\n    model_norm.add(Dense(10,activation='relu',input_shape=(n_cols,)))\n    model_norm.add(Dense(1))\n\n    model_norm.compile(optimizer='adam',loss='mean_squared_error')\n\n    model_norm.fit(X_train,y_train,epochs=50)\n    \n    mse_50_norm.append(mean_squared_error(y_test,model_norm.predict(X_test)))"
        },
        {
            "cell_type": "code",
            "execution_count": 15,
            "metadata": {},
            "outputs": [
                {
                    "name": "stdout",
                    "output_type": "stream",
                    "text": "\u001b[1mBaseline model :\u001b[0m\nThe mean of 50 mean squared errors for the baseline model is \u001b[31;1m485.554\u001b[0m.\nThe standard deviation of those mean squared errors is \u001b[31;1m625.889\u001b[0m.\n\u001b[1mNormalized model :\u001b[0m\nThe mean of 50 mean squared errors for the \u001b[1mnormalized\u001b[0m model is \u001b[31;1m357.238\u001b[0m.\nThe standard deviation of those mean squared errors is \u001b[31;1m76.861\u001b[0m.\n\n\nThe mean of 50 mean squared errors decreased by \u001b[1m128.315.\u001b[0m\nThe standard deviation of 50 mean squared errors decreased by \u001b[1m549.028.\u001b[0m\n"
                }
            ],
            "source": "# 5. Mean and standard deviation - B\nimport statistics\n\nmean_normalized_mse = sum(mse_50_norm)/len(mse_50_norm)\nstdev_normalized_mse = statistics.stdev(mse_50_norm)\n\nprint(\"\\033[1mBaseline model :\\033[0m\")\nprint(f\"The mean of 50 mean squared errors for the baseline model is \\033[31;1m{round(mean_baseline_mse,3)}\\033[0m.\\nThe standard deviation of those mean squared errors is \\033[31;1m{round(stdev_baseline_mse,3)}\\033[0m.\")\nprint(\"\\033[1mNormalized model :\\033[0m\")\nprint(f\"The mean of 50 mean squared errors for the \\033[1mnormalized\\033[0m model is \\033[31;1m{round(mean_normalized_mse,3)}\\033[0m.\\nThe standard deviation of those mean squared errors is \\033[31;1m{round(stdev_normalized_mse,3)}\\033[0m.\")\nprint(f\"\\n\\nThe mean of 50 mean squared errors decreased by \\033[1m{round(mean_baseline_mse-mean_normalized_mse,3)}.\\033[0m\")\nprint(f\"The standard deviation of 50 mean squared errors decreased by \\033[1m{round(stdev_baseline_mse-stdev_normalized_mse,3)}.\\033[0m\")"
        },
        {
            "cell_type": "markdown",
            "metadata": {},
            "source": "##### This step demonstrate how it is important to normalized data before any training! It brings every values on a common scale and this without loosing any information."
        },
        {
            "cell_type": "markdown",
            "metadata": {},
            "source": "### C. Increate the number of epochs (5 marks)\n\nRepeat Part B but use 100 epochs this time for training.\n\nHow does the mean of the mean squared errors compare to that from Step B?"
        },
        {
            "cell_type": "code",
            "execution_count": 16,
            "metadata": {},
            "outputs": [
                {
                    "name": "stdout",
                    "output_type": "stream",
                    "text": "2.4.0\n"
                }
            ],
            "source": "# Importing libraries / keras is not available in IBM Watson Studio a solution can be to use tensorflow to import it\nimport tensorflow.keras as keras\n\nfrom tensorflow.keras.models import Sequential\nfrom tensorflow.keras.layers import Dense\n\nprint(keras.__version__)"
        },
        {
            "cell_type": "code",
            "execution_count": 17,
            "metadata": {},
            "outputs": [
                {
                    "name": "stdout",
                    "output_type": "stream",
                    "text": "There are \u001b[36;1m8 predictors\u001b[0m and \u001b[34;1m1 target\u001b[0m for 1030 observations.\nThere are \u001b[1m721 observations\u001b[0m in the training set and \u001b[1m309\u001b[0m in the test set.\n"
                }
            ],
            "source": "# 1. Data preparation - C\nfrom sklearn.model_selection import train_test_split\n\npredictors_normalized = (predictors - predictors.mean()) / predictors.std()\n\nX_train, X_test, y_train, y_test = train_test_split(predictors_normalized, target, test_size=0.3)\n\nprint(f\"There are \\033[36;1m{predictors.shape[1]} predictors\\033[0m and \\033[34;1m{concrete_data.shape[1]-predictors.shape[1]} target\\033[0m for {predictors.shape[0]} observations.\")\nprint(f\"There are \\033[1m{X_train.shape[0]} observations\\033[0m in the training set and \\033[1m{X_test.shape[0]}\\033[0m in the test set.\")"
        },
        {
            "cell_type": "code",
            "execution_count": 18,
            "metadata": {
                "scrolled": true
            },
            "outputs": [
                {
                    "name": "stdout",
                    "output_type": "stream",
                    "text": "Epoch 1/100\n23/23 [==============================] - 0s 1ms/step - loss: 1648.7158\nEpoch 2/100\n23/23 [==============================] - 0s 1ms/step - loss: 1657.9915\nEpoch 3/100\n23/23 [==============================] - 0s 1ms/step - loss: 1560.8767\nEpoch 4/100\n23/23 [==============================] - 0s 1ms/step - loss: 1633.0810\nEpoch 5/100\n23/23 [==============================] - 0s 1ms/step - loss: 1584.0163\nEpoch 6/100\n23/23 [==============================] - 0s 988us/step - loss: 1590.5632\nEpoch 7/100\n23/23 [==============================] - 0s 964us/step - loss: 1631.0266\nEpoch 8/100\n23/23 [==============================] - 0s 960us/step - loss: 1577.9646\nEpoch 9/100\n23/23 [==============================] - 0s 964us/step - loss: 1540.6721\nEpoch 10/100\n23/23 [==============================] - 0s 952us/step - loss: 1515.8260\nEpoch 11/100\n23/23 [==============================] - 0s 991us/step - loss: 1396.9302\nEpoch 12/100\n23/23 [==============================] - 0s 961us/step - loss: 1545.2206\nEpoch 13/100\n23/23 [==============================] - 0s 972us/step - loss: 1443.0268\nEpoch 14/100\n23/23 [==============================] - 0s 967us/step - loss: 1372.8293\nEpoch 15/100\n23/23 [==============================] - 0s 972us/step - loss: 1494.2543\nEpoch 16/100\n23/23 [==============================] - 0s 977us/step - loss: 1331.0544\nEpoch 17/100\n23/23 [==============================] - 0s 993us/step - loss: 1377.3738\nEpoch 18/100\n23/23 [==============================] - 0s 979us/step - loss: 1339.5564\nEpoch 19/100\n23/23 [==============================] - 0s 978us/step - loss: 1335.2645\nEpoch 20/100\n23/23 [==============================] - 0s 972us/step - loss: 1335.3069\nEpoch 21/100\n23/23 [==============================] - 0s 981us/step - loss: 1354.0172\nEpoch 22/100\n23/23 [==============================] - 0s 955us/step - loss: 1246.4907\nEpoch 23/100\n23/23 [==============================] - 0s 969us/step - loss: 1261.2325\nEpoch 24/100\n23/23 [==============================] - 0s 996us/step - loss: 1243.4665\nEpoch 25/100\n23/23 [==============================] - 0s 996us/step - loss: 1164.2414\nEpoch 26/100\n23/23 [==============================] - 0s 995us/step - loss: 1161.3765\nEpoch 27/100\n23/23 [==============================] - 0s 992us/step - loss: 1150.8824\nEpoch 28/100\n23/23 [==============================] - 0s 1ms/step - loss: 1109.1512\nEpoch 29/100\n23/23 [==============================] - 0s 968us/step - loss: 1060.4242\nEpoch 30/100\n23/23 [==============================] - 0s 1ms/step - loss: 1032.7707\nEpoch 31/100\n23/23 [==============================] - 0s 1ms/step - loss: 1015.9253\nEpoch 32/100\n23/23 [==============================] - 0s 1ms/step - loss: 969.0796\nEpoch 33/100\n23/23 [==============================] - 0s 1ms/step - loss: 981.3128\nEpoch 34/100\n23/23 [==============================] - 0s 961us/step - loss: 933.5949\nEpoch 35/100\n23/23 [==============================] - 0s 970us/step - loss: 880.9474\nEpoch 36/100\n23/23 [==============================] - 0s 1ms/step - loss: 854.3929\nEpoch 37/100\n23/23 [==============================] - 0s 963us/step - loss: 814.5038\nEpoch 38/100\n23/23 [==============================] - 0s 990us/step - loss: 814.8220\nEpoch 39/100\n23/23 [==============================] - 0s 964us/step - loss: 730.0758\nEpoch 40/100\n23/23 [==============================] - 0s 965us/step - loss: 709.2374\nEpoch 41/100\n23/23 [==============================] - 0s 952us/step - loss: 722.0149\nEpoch 42/100\n23/23 [==============================] - 0s 958us/step - loss: 681.5133\nEpoch 43/100\n23/23 [==============================] - 0s 967us/step - loss: 667.3608\nEpoch 44/100\n23/23 [==============================] - 0s 948us/step - loss: 645.4415\nEpoch 45/100\n23/23 [==============================] - 0s 944us/step - loss: 600.5644\nEpoch 46/100\n23/23 [==============================] - 0s 954us/step - loss: 559.4704\nEpoch 47/100\n23/23 [==============================] - 0s 977us/step - loss: 578.0358\nEpoch 48/100\n23/23 [==============================] - 0s 1ms/step - loss: 520.3138\nEpoch 49/100\n23/23 [==============================] - 0s 947us/step - loss: 497.9198\nEpoch 50/100\n23/23 [==============================] - 0s 962us/step - loss: 474.4231\nEpoch 51/100\n23/23 [==============================] - 0s 934us/step - loss: 487.1888\nEpoch 52/100\n23/23 [==============================] - 0s 932us/step - loss: 466.8576\nEpoch 53/100\n23/23 [==============================] - 0s 931us/step - loss: 427.2701\nEpoch 54/100\n23/23 [==============================] - 0s 1ms/step - loss: 437.8691\nEpoch 55/100\n23/23 [==============================] - 0s 962us/step - loss: 408.7102\nEpoch 56/100\n23/23 [==============================] - 0s 956us/step - loss: 379.3430\nEpoch 57/100\n23/23 [==============================] - 0s 953us/step - loss: 377.5232\nEpoch 58/100\n23/23 [==============================] - 0s 960us/step - loss: 371.4317\nEpoch 59/100\n23/23 [==============================] - 0s 943us/step - loss: 341.5625\nEpoch 60/100\n23/23 [==============================] - 0s 934us/step - loss: 312.0376\nEpoch 61/100\n23/23 [==============================] - 0s 957us/step - loss: 326.5209\nEpoch 62/100\n23/23 [==============================] - 0s 959us/step - loss: 313.2031\nEpoch 63/100\n23/23 [==============================] - 0s 962us/step - loss: 309.6975\nEpoch 64/100\n23/23 [==============================] - 0s 986us/step - loss: 288.3042\nEpoch 65/100\n23/23 [==============================] - 0s 973us/step - loss: 287.5219\nEpoch 66/100\n23/23 [==============================] - 0s 975us/step - loss: 262.6148\nEpoch 67/100\n23/23 [==============================] - 0s 956us/step - loss: 266.1060\nEpoch 68/100\n23/23 [==============================] - 0s 972us/step - loss: 280.9029\nEpoch 69/100\n23/23 [==============================] - 0s 954us/step - loss: 234.5755\nEpoch 70/100\n23/23 [==============================] - 0s 951us/step - loss: 244.2096\nEpoch 71/100\n23/23 [==============================] - 0s 966us/step - loss: 247.0777\nEpoch 72/100\n23/23 [==============================] - 0s 974us/step - loss: 224.4988\nEpoch 73/100\n23/23 [==============================] - 0s 978us/step - loss: 225.6702\nEpoch 74/100\n23/23 [==============================] - 0s 951us/step - loss: 226.9742\nEpoch 75/100\n23/23 [==============================] - 0s 933us/step - loss: 219.7596\nEpoch 76/100\n23/23 [==============================] - 0s 943us/step - loss: 225.3734\nEpoch 77/100\n23/23 [==============================] - 0s 993us/step - loss: 218.3466\nEpoch 78/100\n23/23 [==============================] - 0s 954us/step - loss: 209.4072\nEpoch 79/100\n23/23 [==============================] - 0s 972us/step - loss: 202.5220\nEpoch 80/100\n23/23 [==============================] - 0s 966us/step - loss: 209.1369\nEpoch 81/100\n23/23 [==============================] - 0s 980us/step - loss: 196.6275\nEpoch 82/100\n23/23 [==============================] - 0s 1ms/step - loss: 191.9020\nEpoch 83/100\n23/23 [==============================] - 0s 1ms/step - loss: 200.0307\nEpoch 84/100\n23/23 [==============================] - 0s 971us/step - loss: 177.5570\nEpoch 85/100\n23/23 [==============================] - 0s 948us/step - loss: 178.6609\nEpoch 86/100\n23/23 [==============================] - 0s 981us/step - loss: 198.0126\nEpoch 87/100\n23/23 [==============================] - 0s 941us/step - loss: 188.1713\nEpoch 88/100\n23/23 [==============================] - 0s 1ms/step - loss: 181.0939\nEpoch 89/100\n23/23 [==============================] - 0s 991us/step - loss: 186.1384\nEpoch 90/100\n23/23 [==============================] - 0s 949us/step - loss: 180.4100\nEpoch 91/100\n23/23 [==============================] - 0s 1ms/step - loss: 177.6122\nEpoch 92/100\n23/23 [==============================] - 0s 961us/step - loss: 187.8665\nEpoch 93/100\n23/23 [==============================] - 0s 951us/step - loss: 180.2481\nEpoch 94/100\n23/23 [==============================] - 0s 953us/step - loss: 178.0359\nEpoch 95/100\n23/23 [==============================] - 0s 961us/step - loss: 163.9406\nEpoch 96/100\n23/23 [==============================] - 0s 972us/step - loss: 163.5352\nEpoch 97/100\n23/23 [==============================] - 0s 1ms/step - loss: 174.4087\nEpoch 98/100\n23/23 [==============================] - 0s 974us/step - loss: 154.2936\nEpoch 99/100\n23/23 [==============================] - 0s 940us/step - loss: 175.6326\nEpoch 100/100\n23/23 [==============================] - 0s 961us/step - loss: 171.3405\n"
                },
                {
                    "data": {
                        "text/plain": "<tensorflow.python.keras.callbacks.History at 0x7fb2244aea10>"
                    },
                    "execution_count": 18,
                    "metadata": {},
                    "output_type": "execute_result"
                }
            ],
            "source": "# 2. Model and training - C\nmodel_epoch = Sequential()\nmodel_epoch.add(Dense(10,activation='relu',input_shape=(n_cols,)))\nmodel_epoch.add(Dense(1))\n\nmodel_epoch.compile(optimizer='adam',loss='mean_squared_error')\n\nmodel_epoch.fit(X_train,y_train,epochs=100)"
        },
        {
            "cell_type": "code",
            "execution_count": 19,
            "metadata": {},
            "outputs": [
                {
                    "name": "stdout",
                    "output_type": "stream",
                    "text": "The mean squared error of this model is \u001b[1m155.748\u001b[0m.\n"
                }
            ],
            "source": "# 3. Model evaluation - C\nfrom sklearn.metrics import mean_squared_error\na_epoch_mse = mean_squared_error(y_test,model_epoch.predict(X_test))\n\nprint(f\"The mean squared error of this model is \\033[1m{round(a_epoch_mse,3)}\\033[0m.\")"
        },
        {
            "cell_type": "code",
            "execution_count": 20,
            "metadata": {
                "scrolled": false
            },
            "outputs": [
                {
                    "name": "stdout",
                    "output_type": "stream",
                    "text": "\u001b[1mComputation of the mean squared error number 50\u001b[0m.\nEpoch 1/100\n23/23 [==============================] - 0s 1ms/step - loss: 1696.7381\nEpoch 2/100\n23/23 [==============================] - 0s 1ms/step - loss: 1565.3920\nEpoch 3/100\n23/23 [==============================] - 0s 1ms/step - loss: 1568.0147\nEpoch 4/100\n23/23 [==============================] - 0s 1ms/step - loss: 1561.8234\nEpoch 5/100\n23/23 [==============================] - 0s 1ms/step - loss: 1523.8362\nEpoch 6/100\n23/23 [==============================] - 0s 1ms/step - loss: 1443.7963\nEpoch 7/100\n23/23 [==============================] - 0s 1ms/step - loss: 1594.1134\nEpoch 8/100\n23/23 [==============================] - 0s 2ms/step - loss: 1469.5168\nEpoch 9/100\n23/23 [==============================] - 0s 1ms/step - loss: 1430.2182\nEpoch 10/100\n23/23 [==============================] - 0s 1ms/step - loss: 1443.3554\nEpoch 11/100\n23/23 [==============================] - 0s 1ms/step - loss: 1477.5497\nEpoch 12/100\n23/23 [==============================] - 0s 1ms/step - loss: 1318.5770\nEpoch 13/100\n23/23 [==============================] - 0s 1ms/step - loss: 1331.7875\nEpoch 14/100\n23/23 [==============================] - 0s 1ms/step - loss: 1315.6987\nEpoch 15/100\n23/23 [==============================] - 0s 1ms/step - loss: 1257.8061\nEpoch 16/100\n23/23 [==============================] - 0s 1ms/step - loss: 1276.2753\nEpoch 17/100\n23/23 [==============================] - 0s 1ms/step - loss: 1253.3539\nEpoch 18/100\n23/23 [==============================] - 0s 1ms/step - loss: 1195.8564\nEpoch 19/100\n23/23 [==============================] - 0s 1ms/step - loss: 1176.0799\nEpoch 20/100\n23/23 [==============================] - 0s 1ms/step - loss: 1145.5251\nEpoch 21/100\n23/23 [==============================] - 0s 1ms/step - loss: 1129.8168\nEpoch 22/100\n23/23 [==============================] - 0s 1ms/step - loss: 1088.3194\nEpoch 23/100\n23/23 [==============================] - 0s 1ms/step - loss: 1043.0151\nEpoch 24/100\n23/23 [==============================] - 0s 1ms/step - loss: 1026.1674\nEpoch 25/100\n23/23 [==============================] - 0s 1ms/step - loss: 989.5122\nEpoch 26/100\n23/23 [==============================] - 0s 1ms/step - loss: 978.1453\nEpoch 27/100\n23/23 [==============================] - 0s 1ms/step - loss: 911.0504\nEpoch 28/100\n23/23 [==============================] - 0s 1ms/step - loss: 882.1116\nEpoch 29/100\n23/23 [==============================] - 0s 1ms/step - loss: 893.6688\nEpoch 30/100\n23/23 [==============================] - 0s 1ms/step - loss: 879.5892\nEpoch 31/100\n23/23 [==============================] - 0s 1ms/step - loss: 816.4013\nEpoch 32/100\n23/23 [==============================] - 0s 1ms/step - loss: 770.8077\nEpoch 33/100\n23/23 [==============================] - 0s 1ms/step - loss: 752.0221\nEpoch 34/100\n23/23 [==============================] - 0s 1ms/step - loss: 714.9816\nEpoch 35/100\n23/23 [==============================] - 0s 1ms/step - loss: 713.8496\nEpoch 36/100\n23/23 [==============================] - 0s 1ms/step - loss: 668.6041\nEpoch 37/100\n23/23 [==============================] - 0s 1ms/step - loss: 633.3890\nEpoch 38/100\n23/23 [==============================] - 0s 1ms/step - loss: 592.3752\nEpoch 39/100\n23/23 [==============================] - 0s 1ms/step - loss: 547.9630\nEpoch 40/100\n23/23 [==============================] - 0s 1ms/step - loss: 552.8717\nEpoch 41/100\n23/23 [==============================] - 0s 1ms/step - loss: 516.9093\nEpoch 42/100\n23/23 [==============================] - 0s 1ms/step - loss: 523.2612\nEpoch 43/100\n23/23 [==============================] - 0s 1ms/step - loss: 472.0711\nEpoch 44/100\n23/23 [==============================] - 0s 1ms/step - loss: 452.2494\nEpoch 45/100\n23/23 [==============================] - 0s 1ms/step - loss: 431.4073\nEpoch 46/100\n23/23 [==============================] - 0s 1ms/step - loss: 461.5854\nEpoch 47/100\n23/23 [==============================] - 0s 1ms/step - loss: 381.9458\nEpoch 48/100\n23/23 [==============================] - 0s 1ms/step - loss: 397.1883\nEpoch 49/100\n23/23 [==============================] - 0s 1ms/step - loss: 401.9575\nEpoch 50/100\n23/23 [==============================] - 0s 1ms/step - loss: 376.1835\nEpoch 51/100\n23/23 [==============================] - 0s 1ms/step - loss: 389.3152\nEpoch 52/100\n23/23 [==============================] - 0s 1ms/step - loss: 337.1539\nEpoch 53/100\n23/23 [==============================] - 0s 1ms/step - loss: 348.0164\nEpoch 54/100\n23/23 [==============================] - 0s 984us/step - loss: 326.0201\nEpoch 55/100\n23/23 [==============================] - 0s 991us/step - loss: 338.7632\nEpoch 56/100\n23/23 [==============================] - 0s 1ms/step - loss: 313.9631\nEpoch 57/100\n23/23 [==============================] - 0s 1ms/step - loss: 307.3214\nEpoch 58/100\n23/23 [==============================] - 0s 1ms/step - loss: 296.0544\nEpoch 59/100\n23/23 [==============================] - 0s 1ms/step - loss: 291.3363\nEpoch 60/100\n23/23 [==============================] - 0s 1ms/step - loss: 291.8740\nEpoch 61/100\n23/23 [==============================] - 0s 966us/step - loss: 274.0269\nEpoch 62/100\n23/23 [==============================] - 0s 996us/step - loss: 253.8457\nEpoch 63/100\n23/23 [==============================] - 0s 1ms/step - loss: 266.3366\nEpoch 64/100\n23/23 [==============================] - 0s 994us/step - loss: 266.3741\nEpoch 65/100\n23/23 [==============================] - 0s 996us/step - loss: 265.7849\nEpoch 66/100\n23/23 [==============================] - 0s 1ms/step - loss: 259.4289\nEpoch 67/100\n23/23 [==============================] - 0s 991us/step - loss: 270.1076\nEpoch 68/100\n23/23 [==============================] - 0s 989us/step - loss: 239.1499\nEpoch 69/100\n23/23 [==============================] - 0s 1ms/step - loss: 221.3293\nEpoch 70/100\n23/23 [==============================] - 0s 992us/step - loss: 228.6484\nEpoch 71/100\n23/23 [==============================] - 0s 980us/step - loss: 240.9408\nEpoch 72/100\n23/23 [==============================] - 0s 984us/step - loss: 222.6601\nEpoch 73/100\n23/23 [==============================] - 0s 981us/step - loss: 211.7754\nEpoch 74/100\n23/23 [==============================] - 0s 972us/step - loss: 227.6121\nEpoch 75/100\n23/23 [==============================] - 0s 1ms/step - loss: 215.3256\nEpoch 76/100\n23/23 [==============================] - 0s 1ms/step - loss: 216.2032\nEpoch 77/100\n23/23 [==============================] - 0s 988us/step - loss: 218.2350\nEpoch 78/100\n23/23 [==============================] - 0s 979us/step - loss: 201.6191\nEpoch 79/100\n23/23 [==============================] - 0s 996us/step - loss: 207.9393\nEpoch 80/100\n23/23 [==============================] - 0s 1ms/step - loss: 209.0308\nEpoch 81/100\n23/23 [==============================] - 0s 1ms/step - loss: 196.3878\nEpoch 82/100\n23/23 [==============================] - 0s 985us/step - loss: 204.1143\nEpoch 83/100\n23/23 [==============================] - 0s 985us/step - loss: 200.6996\nEpoch 84/100\n23/23 [==============================] - 0s 1ms/step - loss: 208.4948\nEpoch 85/100\n23/23 [==============================] - 0s 1ms/step - loss: 196.5940\nEpoch 86/100\n23/23 [==============================] - 0s 1ms/step - loss: 205.3631\nEpoch 87/100\n23/23 [==============================] - 0s 1ms/step - loss: 195.2740\nEpoch 88/100\n23/23 [==============================] - 0s 1ms/step - loss: 194.3549\nEpoch 89/100\n23/23 [==============================] - 0s 1ms/step - loss: 198.9241\nEpoch 90/100\n23/23 [==============================] - 0s 1ms/step - loss: 192.8141\nEpoch 91/100\n23/23 [==============================] - 0s 1ms/step - loss: 187.7406\nEpoch 92/100\n23/23 [==============================] - 0s 1ms/step - loss: 173.9501\nEpoch 93/100\n23/23 [==============================] - 0s 1ms/step - loss: 182.7865\nEpoch 94/100\n23/23 [==============================] - 0s 1ms/step - loss: 171.9585\nEpoch 95/100\n23/23 [==============================] - 0s 992us/step - loss: 187.2872\nEpoch 96/100\n23/23 [==============================] - 0s 973us/step - loss: 185.4038\nEpoch 97/100\n23/23 [==============================] - 0s 1ms/step - loss: 172.9695\nEpoch 98/100\n23/23 [==============================] - 0s 959us/step - loss: 177.5232\nEpoch 99/100\n23/23 [==============================] - 0s 958us/step - loss: 171.3057\nEpoch 100/100\n23/23 [==============================] - 0s 943us/step - loss: 158.5628\n"
                }
            ],
            "source": "# 4. Repeat 50 times - C\nfrom IPython.display import clear_output\n\nmse_50_epoch = []\n\nfor x in range(1,51):\n    clear_output(wait=True)\n    print(f\"\\033[1mComputation of the mean squared error number {x}\\033[0m.\")\n    \n    X_train, X_test, y_train, y_test = train_test_split(predictors_normalized, target, test_size=0.3)\n    model_epoch = Sequential()\n    model_epoch.add(Dense(10,activation='relu',input_shape=(n_cols,)))\n    model_epoch.add(Dense(1))\n\n    model_epoch.compile(optimizer='adam',loss='mean_squared_error')\n\n    model_epoch.fit(X_train,y_train,epochs=100)\n    \n    mse_50_epoch.append(mean_squared_error(y_test,model_epoch.predict(X_test)))"
        },
        {
            "cell_type": "code",
            "execution_count": 21,
            "metadata": {},
            "outputs": [
                {
                    "name": "stdout",
                    "output_type": "stream",
                    "text": "\u001b[1mBaseline model :\u001b[0m\nThe mean of 50 mean squared errors for the baseline model is \u001b[31;1m485.554\u001b[0m.\nThe standard deviation of those mean squared errors is \u001b[31;1m625.889\u001b[0m.\n\u001b[1mNormalized model :\u001b[0m\nThe mean of 50 mean squared errors for the \u001b[1mnormalized\u001b[0m model is \u001b[31;1m357.238\u001b[0m.\nThe standard deviation of those mean squared errors is \u001b[31;1m76.861\u001b[0m.\n\u001b[1m100 Epochs model :\u001b[0m\nThe mean of 50 mean squared errors for the \u001b[1m100 Epochs\u001b[0m model is \u001b[31;1m163.78\u001b[0m.\nThe standard deviation of those mean squared errors is \u001b[31;1m12.675\u001b[0m.\n\n\nThe mean of 50 mean squared errors decreased by \u001b[1m193.459\u001b[0m compared to the normalized approach.\nThe standard deviation of 50 mean squared errors decreased by \u001b[1m64.185\u001b[0m compared to the normalized approach.\n"
                }
            ],
            "source": "# 5. Mean and standard deviation - C\nimport statistics\n\nmean_epoch_mse = sum(mse_50_epoch)/len(mse_50_epoch)\nstdev_epoch_mse = statistics.stdev(mse_50_epoch)\n\nprint(\"\\033[1mBaseline model :\\033[0m\")\nprint(f\"The mean of 50 mean squared errors for the baseline model is \\033[31;1m{round(mean_baseline_mse,3)}\\033[0m.\\nThe standard deviation of those mean squared errors is \\033[31;1m{round(stdev_baseline_mse,3)}\\033[0m.\")\nprint(\"\\033[1mNormalized model :\\033[0m\")\nprint(f\"The mean of 50 mean squared errors for the \\033[1mnormalized\\033[0m model is \\033[31;1m{round(mean_normalized_mse,3)}\\033[0m.\\nThe standard deviation of those mean squared errors is \\033[31;1m{round(stdev_normalized_mse,3)}\\033[0m.\")\nprint(\"\\033[1m100 Epochs model :\\033[0m\")\nprint(f\"The mean of 50 mean squared errors for the \\033[1m100 Epochs\\033[0m model is \\033[31;1m{round(mean_epoch_mse,3)}\\033[0m.\\nThe standard deviation of those mean squared errors is \\033[31;1m{round(stdev_epoch_mse,3)}\\033[0m.\")\nprint(f\"\\n\\nThe mean of 50 mean squared errors decreased by \\033[1m{round(mean_normalized_mse-mean_epoch_mse,3)}\\033[0m compared to the normalized approach.\")\nprint(f\"The standard deviation of 50 mean squared errors decreased by \\033[1m{round(stdev_normalized_mse-stdev_epoch_mse,3)}\\033[0m compared to the normalized approach.\")"
        },
        {
            "cell_type": "markdown",
            "metadata": {},
            "source": "##### Adding more epochs is good idea to improve model performances however it is still really important to be careful with the loss function and especialy the validation loss as it is a good warning for a model overfitting on your data. Some model can however uses lots of epochs : the model DenseNet has been trained with 300 epochs for example."
        },
        {
            "cell_type": "markdown",
            "metadata": {},
            "source": "Here we didn't used the validation loss but it can be used as followed :"
        },
        {
            "cell_type": "code",
            "execution_count": 28,
            "metadata": {},
            "outputs": [
                {
                    "name": "stdout",
                    "output_type": "stream",
                    "text": "Epoch 1/100\n16/16 [==============================] - 1s 41ms/step - loss: 1588.6870 - val_loss: 1558.8397\nEpoch 2/100\n16/16 [==============================] - 0s 4ms/step - loss: 1545.3395 - val_loss: 1548.7227\nEpoch 3/100\n16/16 [==============================] - 0s 3ms/step - loss: 1474.0503 - val_loss: 1538.5601\nEpoch 4/100\n16/16 [==============================] - 0s 3ms/step - loss: 1491.0321 - val_loss: 1528.1842\nEpoch 5/100\n16/16 [==============================] - 0s 3ms/step - loss: 1480.4296 - val_loss: 1517.6351\nEpoch 6/100\n16/16 [==============================] - 0s 3ms/step - loss: 1550.1575 - val_loss: 1506.7289\nEpoch 7/100\n16/16 [==============================] - 0s 3ms/step - loss: 1458.3814 - val_loss: 1495.9009\nEpoch 8/100\n16/16 [==============================] - 0s 3ms/step - loss: 1454.0750 - val_loss: 1484.6489\nEpoch 9/100\n16/16 [==============================] - 0s 3ms/step - loss: 1434.5719 - val_loss: 1473.1470\nEpoch 10/100\n16/16 [==============================] - 0s 3ms/step - loss: 1398.8722 - val_loss: 1461.2415\nEpoch 11/100\n16/16 [==============================] - 0s 3ms/step - loss: 1339.3006 - val_loss: 1448.9167\nEpoch 12/100\n16/16 [==============================] - 0s 3ms/step - loss: 1378.1743 - val_loss: 1436.1696\nEpoch 13/100\n16/16 [==============================] - 0s 3ms/step - loss: 1424.3704 - val_loss: 1422.8630\nEpoch 14/100\n16/16 [==============================] - 0s 3ms/step - loss: 1343.9913 - val_loss: 1409.2708\nEpoch 15/100\n16/16 [==============================] - 0s 3ms/step - loss: 1370.6079 - val_loss: 1395.2211\nEpoch 16/100\n16/16 [==============================] - 0s 3ms/step - loss: 1338.8709 - val_loss: 1380.4934\nEpoch 17/100\n16/16 [==============================] - 0s 3ms/step - loss: 1393.8473 - val_loss: 1364.9625\nEpoch 18/100\n16/16 [==============================] - 0s 3ms/step - loss: 1322.6153 - val_loss: 1349.0598\nEpoch 19/100\n16/16 [==============================] - 0s 6ms/step - loss: 1353.6853 - val_loss: 1332.4391\nEpoch 20/100\n16/16 [==============================] - 0s 3ms/step - loss: 1275.3118 - val_loss: 1315.4174\nEpoch 21/100\n16/16 [==============================] - 0s 3ms/step - loss: 1256.7822 - val_loss: 1297.7227\nEpoch 22/100\n16/16 [==============================] - 0s 3ms/step - loss: 1277.9126 - val_loss: 1279.3768\nEpoch 23/100\n16/16 [==============================] - 0s 6ms/step - loss: 1227.6017 - val_loss: 1260.9070\nEpoch 24/100\n16/16 [==============================] - 0s 4ms/step - loss: 1242.0841 - val_loss: 1241.5795\nEpoch 25/100\n16/16 [==============================] - 0s 5ms/step - loss: 1169.1885 - val_loss: 1222.1002\nEpoch 26/100\n16/16 [==============================] - 0s 4ms/step - loss: 1233.7277 - val_loss: 1201.9021\nEpoch 27/100\n16/16 [==============================] - 0s 4ms/step - loss: 1161.3476 - val_loss: 1181.6964\nEpoch 28/100\n16/16 [==============================] - 0s 3ms/step - loss: 1102.8561 - val_loss: 1161.0759\nEpoch 29/100\n16/16 [==============================] - 0s 4ms/step - loss: 1177.2134 - val_loss: 1139.8232\nEpoch 30/100\n16/16 [==============================] - 0s 4ms/step - loss: 1094.7097 - val_loss: 1118.5797\nEpoch 31/100\n16/16 [==============================] - 0s 4ms/step - loss: 1098.1538 - val_loss: 1096.9956\nEpoch 32/100\n16/16 [==============================] - 0s 3ms/step - loss: 1073.7725 - val_loss: 1075.3356\nEpoch 33/100\n16/16 [==============================] - 0s 3ms/step - loss: 1041.4571 - val_loss: 1053.5150\nEpoch 34/100\n16/16 [==============================] - 0s 3ms/step - loss: 1064.2914 - val_loss: 1031.3279\nEpoch 35/100\n16/16 [==============================] - 0s 5ms/step - loss: 1019.7360 - val_loss: 1008.8185\nEpoch 36/100\n16/16 [==============================] - 0s 4ms/step - loss: 979.8684 - val_loss: 986.7461\nEpoch 37/100\n16/16 [==============================] - 0s 3ms/step - loss: 1001.1333 - val_loss: 964.4188\nEpoch 38/100\n16/16 [==============================] - 0s 4ms/step - loss: 878.9337 - val_loss: 942.4746\nEpoch 39/100\n16/16 [==============================] - 0s 3ms/step - loss: 921.6827 - val_loss: 919.8460\nEpoch 40/100\n16/16 [==============================] - 0s 4ms/step - loss: 863.7278 - val_loss: 897.8165\nEpoch 41/100\n16/16 [==============================] - 0s 8ms/step - loss: 876.3153 - val_loss: 875.2937\nEpoch 42/100\n16/16 [==============================] - 0s 3ms/step - loss: 861.4081 - val_loss: 852.9897\nEpoch 43/100\n16/16 [==============================] - 0s 4ms/step - loss: 789.3390 - val_loss: 831.2837\nEpoch 44/100\n16/16 [==============================] - 0s 5ms/step - loss: 846.7118 - val_loss: 808.9783\nEpoch 45/100\n16/16 [==============================] - 0s 3ms/step - loss: 767.2283 - val_loss: 787.8821\nEpoch 46/100\n16/16 [==============================] - 0s 3ms/step - loss: 723.1302 - val_loss: 766.5051\nEpoch 47/100\n16/16 [==============================] - 0s 3ms/step - loss: 677.9848 - val_loss: 745.2651\nEpoch 48/100\n16/16 [==============================] - 0s 5ms/step - loss: 715.9440 - val_loss: 724.0995\nEpoch 49/100\n16/16 [==============================] - 0s 3ms/step - loss: 687.7970 - val_loss: 703.6577\nEpoch 50/100\n16/16 [==============================] - 0s 3ms/step - loss: 690.3580 - val_loss: 683.1667\nEpoch 51/100\n16/16 [==============================] - 0s 3ms/step - loss: 636.4690 - val_loss: 663.3750\nEpoch 52/100\n16/16 [==============================] - 0s 4ms/step - loss: 667.0097 - val_loss: 643.8129\nEpoch 53/100\n16/16 [==============================] - 0s 3ms/step - loss: 575.7880 - val_loss: 624.8157\nEpoch 54/100\n16/16 [==============================] - 0s 3ms/step - loss: 620.8018 - val_loss: 605.7003\nEpoch 55/100\n16/16 [==============================] - 0s 4ms/step - loss: 577.3077 - val_loss: 587.5504\nEpoch 56/100\n16/16 [==============================] - 0s 3ms/step - loss: 550.2171 - val_loss: 569.5668\nEpoch 57/100\n16/16 [==============================] - 0s 3ms/step - loss: 549.4382 - val_loss: 552.0673\nEpoch 58/100\n16/16 [==============================] - 0s 5ms/step - loss: 508.9100 - val_loss: 534.7551\nEpoch 59/100\n16/16 [==============================] - 0s 4ms/step - loss: 513.6258 - val_loss: 517.9619\nEpoch 60/100\n16/16 [==============================] - 0s 3ms/step - loss: 433.9603 - val_loss: 502.5326\nEpoch 61/100\n16/16 [==============================] - 0s 4ms/step - loss: 464.1385 - val_loss: 486.5398\nEpoch 62/100\n16/16 [==============================] - 0s 3ms/step - loss: 442.5438 - val_loss: 471.2768\nEpoch 63/100\n16/16 [==============================] - 0s 4ms/step - loss: 431.5156 - val_loss: 456.9362\nEpoch 64/100\n16/16 [==============================] - 0s 3ms/step - loss: 423.9596 - val_loss: 442.7586\nEpoch 65/100\n16/16 [==============================] - 0s 4ms/step - loss: 387.3766 - val_loss: 429.4875\nEpoch 66/100\n16/16 [==============================] - 0s 3ms/step - loss: 418.6446 - val_loss: 416.0681\nEpoch 67/100\n16/16 [==============================] - 0s 3ms/step - loss: 385.7191 - val_loss: 403.5999\nEpoch 68/100\n16/16 [==============================] - 0s 6ms/step - loss: 364.1495 - val_loss: 391.7162\nEpoch 69/100\n16/16 [==============================] - 0s 6ms/step - loss: 352.4311 - val_loss: 380.2127\nEpoch 70/100\n16/16 [==============================] - 0s 3ms/step - loss: 309.5490 - val_loss: 369.5176\nEpoch 71/100\n16/16 [==============================] - 0s 4ms/step - loss: 323.1755 - val_loss: 358.8294\nEpoch 72/100\n16/16 [==============================] - 0s 5ms/step - loss: 296.2990 - val_loss: 349.0240\nEpoch 73/100\n16/16 [==============================] - 0s 5ms/step - loss: 316.0113 - val_loss: 339.4481\nEpoch 74/100\n16/16 [==============================] - 0s 3ms/step - loss: 296.6012 - val_loss: 330.6355\nEpoch 75/100\n16/16 [==============================] - 0s 5ms/step - loss: 278.0258 - val_loss: 322.3945\nEpoch 76/100\n16/16 [==============================] - 0s 3ms/step - loss: 275.0887 - val_loss: 314.8465\nEpoch 77/100\n16/16 [==============================] - 0s 3ms/step - loss: 267.2080 - val_loss: 307.3097\nEpoch 78/100\n16/16 [==============================] - 0s 5ms/step - loss: 258.7181 - val_loss: 300.3920\nEpoch 79/100\n16/16 [==============================] - 0s 3ms/step - loss: 225.2423 - val_loss: 294.1544\nEpoch 80/100\n16/16 [==============================] - 0s 3ms/step - loss: 234.4498 - val_loss: 287.8832\nEpoch 81/100\n16/16 [==============================] - 0s 4ms/step - loss: 251.7408 - val_loss: 282.0706\nEpoch 82/100\n16/16 [==============================] - 0s 3ms/step - loss: 230.1870 - val_loss: 276.9086\nEpoch 83/100\n16/16 [==============================] - 0s 3ms/step - loss: 208.2392 - val_loss: 271.8619\nEpoch 84/100\n16/16 [==============================] - 0s 5ms/step - loss: 237.9941 - val_loss: 267.1149\nEpoch 85/100\n16/16 [==============================] - 0s 4ms/step - loss: 201.2875 - val_loss: 262.8532\nEpoch 86/100\n16/16 [==============================] - 0s 6ms/step - loss: 214.8716 - val_loss: 258.8092\nEpoch 87/100\n16/16 [==============================] - 0s 4ms/step - loss: 204.7298 - val_loss: 255.0928\nEpoch 88/100\n16/16 [==============================] - 0s 3ms/step - loss: 207.2861 - val_loss: 251.6465\nEpoch 89/100\n16/16 [==============================] - 0s 4ms/step - loss: 198.8406 - val_loss: 248.6756\nEpoch 90/100\n16/16 [==============================] - 0s 3ms/step - loss: 199.8345 - val_loss: 245.5520\nEpoch 91/100\n16/16 [==============================] - 0s 3ms/step - loss: 200.0328 - val_loss: 242.6737\nEpoch 92/100\n16/16 [==============================] - 0s 3ms/step - loss: 166.8798 - val_loss: 240.2453\nEpoch 93/100\n16/16 [==============================] - 0s 3ms/step - loss: 199.8744 - val_loss: 237.7025\nEpoch 94/100\n16/16 [==============================] - 0s 3ms/step - loss: 171.2570 - val_loss: 235.4682\nEpoch 95/100\n16/16 [==============================] - 0s 5ms/step - loss: 170.9194 - val_loss: 233.3248\nEpoch 96/100\n16/16 [==============================] - 0s 3ms/step - loss: 179.7287 - val_loss: 231.4023\nEpoch 97/100\n16/16 [==============================] - 0s 4ms/step - loss: 168.1166 - val_loss: 229.4045\nEpoch 98/100\n16/16 [==============================] - 0s 3ms/step - loss: 165.9784 - val_loss: 227.7232\nEpoch 99/100\n16/16 [==============================] - 0s 3ms/step - loss: 173.1234 - val_loss: 226.1388\nEpoch 100/100\n16/16 [==============================] - 0s 4ms/step - loss: 160.0955 - val_loss: 224.5266\n"
                },
                {
                    "data": {
                        "text/plain": "<tensorflow.python.keras.callbacks.History at 0x7fb20c3d66d0>"
                    },
                    "execution_count": 28,
                    "metadata": {},
                    "output_type": "execute_result"
                }
            ],
            "source": "model_epoch = Sequential()\nmodel_epoch.add(Dense(10,activation='relu',input_shape=(n_cols,)))\nmodel_epoch.add(Dense(1))\n\nmodel_epoch.compile(optimizer='adam',loss='mean_squared_error')\n\nmodel_epoch.fit(X_train,y_train,epochs=100,validation_split=0.3)"
        },
        {
            "cell_type": "markdown",
            "metadata": {},
            "source": "### D. Increase the number of hidden layers (5 marks)\n\n\nRepeat part B but use a neural network with the following instead:\n\n- Three hidden layers, each of 10 nodes and ReLU activation function.\n\nHow does the mean of the mean squared errors compare to that from Step B?"
        },
        {
            "cell_type": "code",
            "execution_count": 22,
            "metadata": {},
            "outputs": [
                {
                    "name": "stdout",
                    "output_type": "stream",
                    "text": "2.4.0\n"
                }
            ],
            "source": "# Importing libraries / keras is not available in IBM Watson Studio a solution can be to use tensorflow to import it\nimport tensorflow.keras as keras\n\nfrom tensorflow.keras.models import Sequential\nfrom tensorflow.keras.layers import Dense\n\nprint(keras.__version__)"
        },
        {
            "cell_type": "code",
            "execution_count": 23,
            "metadata": {},
            "outputs": [
                {
                    "name": "stdout",
                    "output_type": "stream",
                    "text": "There are \u001b[36;1m8 predictors\u001b[0m and \u001b[34;1m1 target\u001b[0m for 1030 observations.\nThere are \u001b[1m721 observations\u001b[0m in the training set and \u001b[1m309\u001b[0m in the test set.\n"
                }
            ],
            "source": "# 1. Data preparation - D\nfrom sklearn.model_selection import train_test_split\n\npredictors_normalized = (predictors - predictors.mean()) / predictors.std()\n\nX_train, X_test, y_train, y_test = train_test_split(predictors_normalized, target, test_size=0.3)\n\nprint(f\"There are \\033[36;1m{predictors.shape[1]} predictors\\033[0m and \\033[34;1m{concrete_data.shape[1]-predictors.shape[1]} target\\033[0m for {predictors.shape[0]} observations.\")\nprint(f\"There are \\033[1m{X_train.shape[0]} observations\\033[0m in the training set and \\033[1m{X_test.shape[0]}\\033[0m in the test set.\")"
        },
        {
            "cell_type": "code",
            "execution_count": 24,
            "metadata": {
                "scrolled": true
            },
            "outputs": [
                {
                    "name": "stdout",
                    "output_type": "stream",
                    "text": "Epoch 1/50\n23/23 [==============================] - 0s 1ms/step - loss: 1602.1627\nEpoch 2/50\n23/23 [==============================] - 0s 1ms/step - loss: 1496.1123\nEpoch 3/50\n23/23 [==============================] - 0s 1ms/step - loss: 1464.4050\nEpoch 4/50\n23/23 [==============================] - 0s 1ms/step - loss: 1378.4986\nEpoch 5/50\n23/23 [==============================] - 0s 1ms/step - loss: 1402.5820\nEpoch 6/50\n23/23 [==============================] - 0s 1ms/step - loss: 1343.6626\nEpoch 7/50\n23/23 [==============================] - 0s 1ms/step - loss: 1225.6195\nEpoch 8/50\n23/23 [==============================] - 0s 1ms/step - loss: 1083.1712\nEpoch 9/50\n23/23 [==============================] - 0s 1ms/step - loss: 909.3833\nEpoch 10/50\n23/23 [==============================] - 0s 1ms/step - loss: 789.1514\nEpoch 11/50\n23/23 [==============================] - 0s 1ms/step - loss: 600.6478\nEpoch 12/50\n23/23 [==============================] - 0s 1ms/step - loss: 494.1410\nEpoch 13/50\n23/23 [==============================] - 0s 1ms/step - loss: 388.2224\nEpoch 14/50\n23/23 [==============================] - 0s 1ms/step - loss: 312.0985\nEpoch 15/50\n23/23 [==============================] - 0s 1ms/step - loss: 248.1373\nEpoch 16/50\n23/23 [==============================] - 0s 991us/step - loss: 215.5476\nEpoch 17/50\n23/23 [==============================] - 0s 1ms/step - loss: 227.5351\nEpoch 18/50\n23/23 [==============================] - 0s 1ms/step - loss: 236.8909\nEpoch 19/50\n23/23 [==============================] - 0s 1ms/step - loss: 218.7922\nEpoch 20/50\n23/23 [==============================] - 0s 1ms/step - loss: 183.2635\nEpoch 21/50\n23/23 [==============================] - 0s 1ms/step - loss: 207.3130\nEpoch 22/50\n23/23 [==============================] - 0s 1ms/step - loss: 213.7693\nEpoch 23/50\n23/23 [==============================] - 0s 1ms/step - loss: 198.3901\nEpoch 24/50\n23/23 [==============================] - 0s 1ms/step - loss: 192.3164\nEpoch 25/50\n23/23 [==============================] - 0s 1ms/step - loss: 178.7192\nEpoch 26/50\n23/23 [==============================] - 0s 1ms/step - loss: 173.4378\nEpoch 27/50\n23/23 [==============================] - 0s 994us/step - loss: 181.6295\nEpoch 28/50\n23/23 [==============================] - 0s 1ms/step - loss: 184.2220\nEpoch 29/50\n23/23 [==============================] - 0s 1ms/step - loss: 185.8169\nEpoch 30/50\n23/23 [==============================] - 0s 1ms/step - loss: 178.6285\nEpoch 31/50\n23/23 [==============================] - 0s 1ms/step - loss: 167.4083\nEpoch 32/50\n23/23 [==============================] - 0s 1ms/step - loss: 187.5183\nEpoch 33/50\n23/23 [==============================] - 0s 1ms/step - loss: 168.3487\nEpoch 34/50\n23/23 [==============================] - 0s 1ms/step - loss: 167.1777\nEpoch 35/50\n23/23 [==============================] - 0s 1ms/step - loss: 173.0445\nEpoch 36/50\n23/23 [==============================] - 0s 1ms/step - loss: 160.9006\nEpoch 37/50\n23/23 [==============================] - 0s 1ms/step - loss: 161.7153\nEpoch 38/50\n23/23 [==============================] - 0s 1ms/step - loss: 154.4412\nEpoch 39/50\n23/23 [==============================] - 0s 1ms/step - loss: 170.6147\nEpoch 40/50\n23/23 [==============================] - 0s 1ms/step - loss: 155.1299\nEpoch 41/50\n23/23 [==============================] - 0s 1ms/step - loss: 152.8637\nEpoch 42/50\n23/23 [==============================] - 0s 1ms/step - loss: 151.9233\nEpoch 43/50\n23/23 [==============================] - 0s 1ms/step - loss: 136.1767\nEpoch 44/50\n23/23 [==============================] - 0s 1ms/step - loss: 163.8831\nEpoch 45/50\n23/23 [==============================] - 0s 1ms/step - loss: 155.2844\nEpoch 46/50\n23/23 [==============================] - 0s 1ms/step - loss: 156.4079\nEpoch 47/50\n23/23 [==============================] - 0s 1ms/step - loss: 150.6663\nEpoch 48/50\n23/23 [==============================] - 0s 1ms/step - loss: 145.3886\nEpoch 49/50\n23/23 [==============================] - 0s 1ms/step - loss: 139.8436\nEpoch 50/50\n23/23 [==============================] - 0s 1ms/step - loss: 153.5941\n"
                },
                {
                    "data": {
                        "text/plain": "<tensorflow.python.keras.callbacks.History at 0x7fb1e8245e10>"
                    },
                    "execution_count": 24,
                    "metadata": {},
                    "output_type": "execute_result"
                }
            ],
            "source": "# 2. Model and training - D\nmodel_hidden = Sequential()\nmodel_hidden.add(Dense(10,activation='relu',input_shape=(n_cols,)))\nmodel_hidden.add(Dense(10,activation='relu'))\nmodel_hidden.add(Dense(10,activation='relu'))\nmodel_hidden.add(Dense(1))\n\nmodel_hidden.compile(optimizer='adam',loss='mean_squared_error')\n\nmodel_hidden.fit(X_train,y_train,epochs=50)"
        },
        {
            "cell_type": "code",
            "execution_count": 25,
            "metadata": {},
            "outputs": [
                {
                    "name": "stdout",
                    "output_type": "stream",
                    "text": "The mean squared error of this model is \u001b[1m134.396\u001b[0m.\n"
                }
            ],
            "source": "# 3. Model evaluation - D\nfrom sklearn.metrics import mean_squared_error\na_hidden_mse = mean_squared_error(y_test,model_hidden.predict(X_test))\n\nprint(f\"The mean squared error of this model is \\033[1m{round(a_hidden_mse,3)}\\033[0m.\")"
        },
        {
            "cell_type": "code",
            "execution_count": 26,
            "metadata": {
                "scrolled": false
            },
            "outputs": [
                {
                    "name": "stdout",
                    "output_type": "stream",
                    "text": "\u001b[1mComputation of the mean squared error number 50\u001b[0m.\nEpoch 1/50\n23/23 [==============================] - 0s 1ms/step - loss: 1559.0408\nEpoch 2/50\n23/23 [==============================] - 0s 1ms/step - loss: 1513.0332\nEpoch 3/50\n23/23 [==============================] - 0s 1ms/step - loss: 1525.7705\nEpoch 4/50\n23/23 [==============================] - 0s 1ms/step - loss: 1491.7753\nEpoch 5/50\n23/23 [==============================] - 0s 1ms/step - loss: 1404.0344\nEpoch 6/50\n23/23 [==============================] - 0s 1ms/step - loss: 1475.6261\nEpoch 7/50\n23/23 [==============================] - 0s 1ms/step - loss: 1414.2636\nEpoch 8/50\n23/23 [==============================] - 0s 1ms/step - loss: 1224.6157\nEpoch 9/50\n23/23 [==============================] - 0s 1ms/step - loss: 1025.9791\nEpoch 10/50\n23/23 [==============================] - 0s 1ms/step - loss: 853.7408\nEpoch 11/50\n23/23 [==============================] - 0s 1ms/step - loss: 659.2050\nEpoch 12/50\n23/23 [==============================] - 0s 1ms/step - loss: 429.9755\nEpoch 13/50\n23/23 [==============================] - 0s 1ms/step - loss: 348.2852\nEpoch 14/50\n23/23 [==============================] - 0s 1ms/step - loss: 284.0813\nEpoch 15/50\n23/23 [==============================] - 0s 1ms/step - loss: 253.8886\nEpoch 16/50\n23/23 [==============================] - 0s 1ms/step - loss: 200.9549\nEpoch 17/50\n23/23 [==============================] - 0s 1ms/step - loss: 191.2184\nEpoch 18/50\n23/23 [==============================] - 0s 1ms/step - loss: 204.6245\nEpoch 19/50\n23/23 [==============================] - 0s 1ms/step - loss: 190.0842\nEpoch 20/50\n23/23 [==============================] - 0s 1ms/step - loss: 193.6851\nEpoch 21/50\n23/23 [==============================] - 0s 1ms/step - loss: 181.2552\nEpoch 22/50\n23/23 [==============================] - 0s 1ms/step - loss: 183.7643\nEpoch 23/50\n23/23 [==============================] - 0s 1ms/step - loss: 174.5708\nEpoch 24/50\n23/23 [==============================] - 0s 1ms/step - loss: 175.0884\nEpoch 25/50\n23/23 [==============================] - 0s 1ms/step - loss: 179.2874\nEpoch 26/50\n23/23 [==============================] - 0s 1ms/step - loss: 158.2354\nEpoch 27/50\n23/23 [==============================] - 0s 2ms/step - loss: 157.6118\nEpoch 28/50\n23/23 [==============================] - 0s 1ms/step - loss: 158.9998\nEpoch 29/50\n23/23 [==============================] - 0s 1ms/step - loss: 154.7816\nEpoch 30/50\n23/23 [==============================] - 0s 1ms/step - loss: 154.0169\nEpoch 31/50\n23/23 [==============================] - 0s 1ms/step - loss: 145.5276\nEpoch 32/50\n23/23 [==============================] - 0s 1ms/step - loss: 146.4249\nEpoch 33/50\n23/23 [==============================] - 0s 1ms/step - loss: 148.6820\nEpoch 34/50\n23/23 [==============================] - 0s 1ms/step - loss: 148.4557\nEpoch 35/50\n23/23 [==============================] - 0s 1ms/step - loss: 124.4996\nEpoch 36/50\n23/23 [==============================] - 0s 1ms/step - loss: 134.2130\nEpoch 37/50\n23/23 [==============================] - 0s 1ms/step - loss: 132.0693\nEpoch 38/50\n23/23 [==============================] - 0s 1ms/step - loss: 138.2392\nEpoch 39/50\n23/23 [==============================] - 0s 998us/step - loss: 140.2584\nEpoch 40/50\n23/23 [==============================] - 0s 1ms/step - loss: 118.5509\nEpoch 41/50\n23/23 [==============================] - 0s 1ms/step - loss: 121.6652\nEpoch 42/50\n23/23 [==============================] - 0s 1ms/step - loss: 118.3948\nEpoch 43/50\n23/23 [==============================] - 0s 1ms/step - loss: 125.5168\nEpoch 44/50\n23/23 [==============================] - 0s 1ms/step - loss: 114.0840\nEpoch 45/50\n23/23 [==============================] - 0s 1ms/step - loss: 124.8614\nEpoch 46/50\n23/23 [==============================] - 0s 1ms/step - loss: 110.2383\nEpoch 47/50\n23/23 [==============================] - 0s 999us/step - loss: 104.9072\nEpoch 48/50\n23/23 [==============================] - 0s 1ms/step - loss: 106.8346\nEpoch 49/50\n23/23 [==============================] - 0s 1ms/step - loss: 106.8338\nEpoch 50/50\n23/23 [==============================] - 0s 1ms/step - loss: 95.7832\n"
                }
            ],
            "source": "# 4. Repeat 50 times - D\nfrom IPython.display import clear_output\n\nmse_50_hidden = []\n\nfor x in range(1,51):\n    clear_output(wait=True)\n    print(f\"\\033[1mComputation of the mean squared error number {x}\\033[0m.\")\n    \n    X_train, X_test, y_train, y_test = train_test_split(predictors_normalized, target, test_size=0.3)\n    model_hidden = Sequential()\n    model_hidden.add(Dense(10,activation='relu',input_shape=(n_cols,)))\n    model_hidden.add(Dense(10,activation='relu'))\n    model_hidden.add(Dense(10,activation='relu'))\n    model_hidden.add(Dense(1))\n\n    model_hidden.compile(optimizer='adam',loss='mean_squared_error')\n\n    model_hidden.fit(X_train,y_train,epochs=50)\n    \n    mse_50_hidden.append(mean_squared_error(y_test,model_hidden.predict(X_test)))"
        },
        {
            "cell_type": "code",
            "execution_count": 27,
            "metadata": {},
            "outputs": [
                {
                    "name": "stdout",
                    "output_type": "stream",
                    "text": "\u001b[1mBaseline model :\u001b[0m\nThe mean of 50 mean squared errors for the baseline model is \u001b[31;1m485.554\u001b[0m.\nThe standard deviation of those mean squared errors is \u001b[31;1m625.889\u001b[0m.\n\u001b[1mNormalized model :\u001b[0m\nThe mean of 50 mean squared errors for the \u001b[1mnormalized\u001b[0m model is \u001b[31;1m357.238\u001b[0m.\nThe standard deviation of those mean squared errors is \u001b[31;1m76.861\u001b[0m.\n\u001b[1m100 Epochs model :\u001b[0m\nThe mean of 50 mean squared errors for the \u001b[1m100 Epochs\u001b[0m model is \u001b[31;1m163.78\u001b[0m.\nThe standard deviation of those mean squared errors is \u001b[31;1m12.675\u001b[0m.\n\u001b[1m3 hidden layers model :\u001b[0m\nThe mean of 50 mean squared errors for the \u001b[1m3 hidden layers\u001b[0m model is \u001b[31;1m153.661\u001b[0m.\nThe standard deviation of those mean squared errors is \u001b[31;1m198.167\u001b[0m.\n\n\nThe mean of 50 mean squared errors decreased by \u001b[1m203.577\u001b[0m compared to the normalized approach.\nThe standard deviation of 50 mean squared errors decreased by \u001b[1m-121.307\u001b[0m compared to the normalized approach.\n"
                }
            ],
            "source": "# 5. Mean and standard deviation - D\nimport statistics\n\nmean_hidden_mse = sum(mse_50_hidden)/len(mse_50_hidden)\nstdev_hidden_mse = statistics.stdev(mse_50_hidden)\n\nprint(\"\\033[1mBaseline model :\\033[0m\")\nprint(f\"The mean of 50 mean squared errors for the baseline model is \\033[31;1m{round(mean_baseline_mse,3)}\\033[0m.\\nThe standard deviation of those mean squared errors is \\033[31;1m{round(stdev_baseline_mse,3)}\\033[0m.\")\nprint(\"\\033[1mNormalized model :\\033[0m\")\nprint(f\"The mean of 50 mean squared errors for the \\033[1mnormalized\\033[0m model is \\033[31;1m{round(mean_normalized_mse,3)}\\033[0m.\\nThe standard deviation of those mean squared errors is \\033[31;1m{round(stdev_normalized_mse,3)}\\033[0m.\")\nprint(\"\\033[1m100 Epochs model :\\033[0m\")\nprint(f\"The mean of 50 mean squared errors for the \\033[1m100 Epochs\\033[0m model is \\033[31;1m{round(mean_epoch_mse,3)}\\033[0m.\\nThe standard deviation of those mean squared errors is \\033[31;1m{round(stdev_epoch_mse,3)}\\033[0m.\")\nprint(\"\\033[1m3 hidden layers model :\\033[0m\")\nprint(f\"The mean of 50 mean squared errors for the \\033[1m3 hidden layers\\033[0m model is \\033[31;1m{round(mean_hidden_mse,3)}\\033[0m.\\nThe standard deviation of those mean squared errors is \\033[31;1m{round(stdev_hidden_mse,3)}\\033[0m.\")\nprint(f\"\\n\\nThe mean of 50 mean squared errors decreased by \\033[1m{round(mean_normalized_mse-mean_hidden_mse,3)}\\033[0m compared to the normalized approach.\")\nprint(f\"The standard deviation of 50 mean squared errors decreased by \\033[1m{round(stdev_normalized_mse-stdev_hidden_mse,3)}\\033[0m compared to the normalized approach.\")"
        },
        {
            "cell_type": "markdown",
            "metadata": {},
            "source": "##### Adding more layer is a "
        }
    ],
    "metadata": {
        "kernelspec": {
            "display_name": "Python 3.7",
            "language": "python",
            "name": "python3"
        },
        "language_info": {
            "codemirror_mode": {
                "name": "ipython",
                "version": 3
            },
            "file_extension": ".py",
            "mimetype": "text/x-python",
            "name": "python",
            "nbconvert_exporter": "python",
            "pygments_lexer": "ipython3",
            "version": "3.7.10"
        }
    },
    "nbformat": 4,
    "nbformat_minor": 1
}