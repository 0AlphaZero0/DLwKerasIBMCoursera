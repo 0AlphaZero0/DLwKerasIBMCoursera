{
    "cells": [
        {
            "cell_type": "markdown",
            "metadata": {
                "collapsed": true
            },
            "source": "# Coursera : IBM Introduction to Deep Learning with Keras"
        },
        {
            "cell_type": "markdown",
            "metadata": {},
            "source": "##### Downloading data"
        },
        {
            "cell_type": "code",
            "execution_count": 1,
            "metadata": {},
            "outputs": [
                {
                    "data": {
                        "text/html": "<div>\n<style scoped>\n    .dataframe tbody tr th:only-of-type {\n        vertical-align: middle;\n    }\n\n    .dataframe tbody tr th {\n        vertical-align: top;\n    }\n\n    .dataframe thead th {\n        text-align: right;\n    }\n</style>\n<table border=\"1\" class=\"dataframe\">\n  <thead>\n    <tr style=\"text-align: right;\">\n      <th></th>\n      <th>Cement</th>\n      <th>Blast Furnace Slag</th>\n      <th>Fly Ash</th>\n      <th>Water</th>\n      <th>Superplasticizer</th>\n      <th>Coarse Aggregate</th>\n      <th>Fine Aggregate</th>\n      <th>Age</th>\n      <th>Strength</th>\n    </tr>\n  </thead>\n  <tbody>\n    <tr>\n      <th>0</th>\n      <td>540.0</td>\n      <td>0.0</td>\n      <td>0.0</td>\n      <td>162.0</td>\n      <td>2.5</td>\n      <td>1040.0</td>\n      <td>676.0</td>\n      <td>28</td>\n      <td>79.99</td>\n    </tr>\n    <tr>\n      <th>1</th>\n      <td>540.0</td>\n      <td>0.0</td>\n      <td>0.0</td>\n      <td>162.0</td>\n      <td>2.5</td>\n      <td>1055.0</td>\n      <td>676.0</td>\n      <td>28</td>\n      <td>61.89</td>\n    </tr>\n    <tr>\n      <th>2</th>\n      <td>332.5</td>\n      <td>142.5</td>\n      <td>0.0</td>\n      <td>228.0</td>\n      <td>0.0</td>\n      <td>932.0</td>\n      <td>594.0</td>\n      <td>270</td>\n      <td>40.27</td>\n    </tr>\n    <tr>\n      <th>3</th>\n      <td>332.5</td>\n      <td>142.5</td>\n      <td>0.0</td>\n      <td>228.0</td>\n      <td>0.0</td>\n      <td>932.0</td>\n      <td>594.0</td>\n      <td>365</td>\n      <td>41.05</td>\n    </tr>\n    <tr>\n      <th>4</th>\n      <td>198.6</td>\n      <td>132.4</td>\n      <td>0.0</td>\n      <td>192.0</td>\n      <td>0.0</td>\n      <td>978.4</td>\n      <td>825.5</td>\n      <td>360</td>\n      <td>44.30</td>\n    </tr>\n  </tbody>\n</table>\n</div>",
                        "text/plain": "   Cement  Blast Furnace Slag  Fly Ash  Water  Superplasticizer  \\\n0   540.0                 0.0      0.0  162.0               2.5   \n1   540.0                 0.0      0.0  162.0               2.5   \n2   332.5               142.5      0.0  228.0               0.0   \n3   332.5               142.5      0.0  228.0               0.0   \n4   198.6               132.4      0.0  192.0               0.0   \n\n   Coarse Aggregate  Fine Aggregate  Age  Strength  \n0            1040.0           676.0   28     79.99  \n1            1055.0           676.0   28     61.89  \n2             932.0           594.0  270     40.27  \n3             932.0           594.0  365     41.05  \n4             978.4           825.5  360     44.30  "
                    },
                    "execution_count": 1,
                    "metadata": {},
                    "output_type": "execute_result"
                }
            ],
            "source": "import requests\nimport pandas as pd\nimport io\n\nconcrete_data = pd.read_csv(io.StringIO(requests.get(\"https://cocl.us/concrete_data\").text),sep=\",\")\n\nconcrete_data.head()"
        },
        {
            "cell_type": "markdown",
            "metadata": {},
            "source": "Let's get a look to the description of the dataset"
        },
        {
            "cell_type": "code",
            "execution_count": 2,
            "metadata": {},
            "outputs": [
                {
                    "data": {
                        "text/html": "<div>\n<style scoped>\n    .dataframe tbody tr th:only-of-type {\n        vertical-align: middle;\n    }\n\n    .dataframe tbody tr th {\n        vertical-align: top;\n    }\n\n    .dataframe thead th {\n        text-align: right;\n    }\n</style>\n<table border=\"1\" class=\"dataframe\">\n  <thead>\n    <tr style=\"text-align: right;\">\n      <th></th>\n      <th>Cement</th>\n      <th>Blast Furnace Slag</th>\n      <th>Fly Ash</th>\n      <th>Water</th>\n      <th>Superplasticizer</th>\n      <th>Coarse Aggregate</th>\n      <th>Fine Aggregate</th>\n      <th>Age</th>\n      <th>Strength</th>\n    </tr>\n  </thead>\n  <tbody>\n    <tr>\n      <th>count</th>\n      <td>1030.000000</td>\n      <td>1030.000000</td>\n      <td>1030.000000</td>\n      <td>1030.000000</td>\n      <td>1030.000000</td>\n      <td>1030.000000</td>\n      <td>1030.000000</td>\n      <td>1030.000000</td>\n      <td>1030.000000</td>\n    </tr>\n    <tr>\n      <th>mean</th>\n      <td>281.167864</td>\n      <td>73.895825</td>\n      <td>54.188350</td>\n      <td>181.567282</td>\n      <td>6.204660</td>\n      <td>972.918932</td>\n      <td>773.580485</td>\n      <td>45.662136</td>\n      <td>35.817961</td>\n    </tr>\n    <tr>\n      <th>std</th>\n      <td>104.506364</td>\n      <td>86.279342</td>\n      <td>63.997004</td>\n      <td>21.354219</td>\n      <td>5.973841</td>\n      <td>77.753954</td>\n      <td>80.175980</td>\n      <td>63.169912</td>\n      <td>16.705742</td>\n    </tr>\n    <tr>\n      <th>min</th>\n      <td>102.000000</td>\n      <td>0.000000</td>\n      <td>0.000000</td>\n      <td>121.800000</td>\n      <td>0.000000</td>\n      <td>801.000000</td>\n      <td>594.000000</td>\n      <td>1.000000</td>\n      <td>2.330000</td>\n    </tr>\n    <tr>\n      <th>25%</th>\n      <td>192.375000</td>\n      <td>0.000000</td>\n      <td>0.000000</td>\n      <td>164.900000</td>\n      <td>0.000000</td>\n      <td>932.000000</td>\n      <td>730.950000</td>\n      <td>7.000000</td>\n      <td>23.710000</td>\n    </tr>\n    <tr>\n      <th>50%</th>\n      <td>272.900000</td>\n      <td>22.000000</td>\n      <td>0.000000</td>\n      <td>185.000000</td>\n      <td>6.400000</td>\n      <td>968.000000</td>\n      <td>779.500000</td>\n      <td>28.000000</td>\n      <td>34.445000</td>\n    </tr>\n    <tr>\n      <th>75%</th>\n      <td>350.000000</td>\n      <td>142.950000</td>\n      <td>118.300000</td>\n      <td>192.000000</td>\n      <td>10.200000</td>\n      <td>1029.400000</td>\n      <td>824.000000</td>\n      <td>56.000000</td>\n      <td>46.135000</td>\n    </tr>\n    <tr>\n      <th>max</th>\n      <td>540.000000</td>\n      <td>359.400000</td>\n      <td>200.100000</td>\n      <td>247.000000</td>\n      <td>32.200000</td>\n      <td>1145.000000</td>\n      <td>992.600000</td>\n      <td>365.000000</td>\n      <td>82.600000</td>\n    </tr>\n  </tbody>\n</table>\n</div>",
                        "text/plain": "            Cement  Blast Furnace Slag      Fly Ash        Water  \\\ncount  1030.000000         1030.000000  1030.000000  1030.000000   \nmean    281.167864           73.895825    54.188350   181.567282   \nstd     104.506364           86.279342    63.997004    21.354219   \nmin     102.000000            0.000000     0.000000   121.800000   \n25%     192.375000            0.000000     0.000000   164.900000   \n50%     272.900000           22.000000     0.000000   185.000000   \n75%     350.000000          142.950000   118.300000   192.000000   \nmax     540.000000          359.400000   200.100000   247.000000   \n\n       Superplasticizer  Coarse Aggregate  Fine Aggregate          Age  \\\ncount       1030.000000       1030.000000     1030.000000  1030.000000   \nmean           6.204660        972.918932      773.580485    45.662136   \nstd            5.973841         77.753954       80.175980    63.169912   \nmin            0.000000        801.000000      594.000000     1.000000   \n25%            0.000000        932.000000      730.950000     7.000000   \n50%            6.400000        968.000000      779.500000    28.000000   \n75%           10.200000       1029.400000      824.000000    56.000000   \nmax           32.200000       1145.000000      992.600000   365.000000   \n\n          Strength  \ncount  1030.000000  \nmean     35.817961  \nstd      16.705742  \nmin       2.330000  \n25%      23.710000  \n50%      34.445000  \n75%      46.135000  \nmax      82.600000  "
                    },
                    "execution_count": 2,
                    "metadata": {},
                    "output_type": "execute_result"
                }
            ],
            "source": "concrete_data.describe()"
        },
        {
            "cell_type": "code",
            "execution_count": 3,
            "metadata": {},
            "outputs": [
                {
                    "data": {
                        "text/html": "<div>\n<style scoped>\n    .dataframe tbody tr th:only-of-type {\n        vertical-align: middle;\n    }\n\n    .dataframe tbody tr th {\n        vertical-align: top;\n    }\n\n    .dataframe thead th {\n        text-align: right;\n    }\n</style>\n<table border=\"1\" class=\"dataframe\">\n  <thead>\n    <tr style=\"text-align: right;\">\n      <th></th>\n      <th>Cement</th>\n      <th>Blast Furnace Slag</th>\n      <th>Fly Ash</th>\n      <th>Water</th>\n      <th>Superplasticizer</th>\n      <th>Coarse Aggregate</th>\n      <th>Fine Aggregate</th>\n      <th>Age</th>\n    </tr>\n  </thead>\n  <tbody>\n    <tr>\n      <th>0</th>\n      <td>540.0</td>\n      <td>0.0</td>\n      <td>0.0</td>\n      <td>162.0</td>\n      <td>2.5</td>\n      <td>1040.0</td>\n      <td>676.0</td>\n      <td>28</td>\n    </tr>\n    <tr>\n      <th>1</th>\n      <td>540.0</td>\n      <td>0.0</td>\n      <td>0.0</td>\n      <td>162.0</td>\n      <td>2.5</td>\n      <td>1055.0</td>\n      <td>676.0</td>\n      <td>28</td>\n    </tr>\n    <tr>\n      <th>2</th>\n      <td>332.5</td>\n      <td>142.5</td>\n      <td>0.0</td>\n      <td>228.0</td>\n      <td>0.0</td>\n      <td>932.0</td>\n      <td>594.0</td>\n      <td>270</td>\n    </tr>\n    <tr>\n      <th>3</th>\n      <td>332.5</td>\n      <td>142.5</td>\n      <td>0.0</td>\n      <td>228.0</td>\n      <td>0.0</td>\n      <td>932.0</td>\n      <td>594.0</td>\n      <td>365</td>\n    </tr>\n    <tr>\n      <th>4</th>\n      <td>198.6</td>\n      <td>132.4</td>\n      <td>0.0</td>\n      <td>192.0</td>\n      <td>0.0</td>\n      <td>978.4</td>\n      <td>825.5</td>\n      <td>360</td>\n    </tr>\n  </tbody>\n</table>\n</div>",
                        "text/plain": "   Cement  Blast Furnace Slag  Fly Ash  Water  Superplasticizer  \\\n0   540.0                 0.0      0.0  162.0               2.5   \n1   540.0                 0.0      0.0  162.0               2.5   \n2   332.5               142.5      0.0  228.0               0.0   \n3   332.5               142.5      0.0  228.0               0.0   \n4   198.6               132.4      0.0  192.0               0.0   \n\n   Coarse Aggregate  Fine Aggregate  Age  \n0            1040.0           676.0   28  \n1            1055.0           676.0   28  \n2             932.0           594.0  270  \n3             932.0           594.0  365  \n4             978.4           825.5  360  "
                    },
                    "execution_count": 3,
                    "metadata": {},
                    "output_type": "execute_result"
                }
            ],
            "source": "target = concrete_data['Strength']\n\npredictors = concrete_data[concrete_data.columns[concrete_data.columns != 'Strength']]\nn_cols = predictors.shape[1]\npredictors.head()"
        },
        {
            "cell_type": "markdown",
            "metadata": {},
            "source": "### A. Build a baseline model (5 marks) \n\nUse the Keras library to build a neural network with the following:\n\n- One hidden layer of 10 nodes, and a ReLU activation function\n\n- Use the adam optimizer and the mean squared error  as the loss function.\n\n1. Randomly split the data into a training and test sets by holding 30% of the data for testing. You can use the train_test_split helper function from Scikit-learn.\n\n2. Train the model on the training data using 50 epochs.\n\n3. Evaluate the model on the test data and compute the mean squared error between the predicted concrete strength and the actual concrete strength. You can use the mean_squared_error function from Scikit-learn.\n\n4. Repeat steps 1 - 3, 50 times, i.e., create a list of 50 mean squared errors.\n\n5. Report the mean and the standard deviation of the mean squared errors.\n\nSubmit your Jupyter Notebook with your code and comments."
        },
        {
            "cell_type": "code",
            "execution_count": 4,
            "metadata": {},
            "outputs": [
                {
                    "name": "stdout",
                    "output_type": "stream",
                    "text": "2.4.0\n"
                }
            ],
            "source": "# Importing libraries / keras is not available in IBM Watson Studio a solution can be to use tensorflow to import it\nimport tensorflow.keras as keras\n\nfrom tensorflow.keras.models import Sequential\nfrom tensorflow.keras.layers import Dense\n\nprint(keras.__version__)"
        },
        {
            "cell_type": "code",
            "execution_count": 5,
            "metadata": {},
            "outputs": [
                {
                    "name": "stdout",
                    "output_type": "stream",
                    "text": "There are \u001b[36;1m8 predictors\u001b[0m and \u001b[34;1m1 target\u001b[0m for 1030 observations.\nThere are \u001b[1m721 observations\u001b[0m in the training set and \u001b[1m309\u001b[0m in the test set.\n"
                }
            ],
            "source": "# 1. Data preparation - A\nfrom sklearn.model_selection import train_test_split\n\nX_train, X_test, y_train, y_test = train_test_split(predictors, target, test_size=0.3)\n\nprint(f\"There are \\033[36;1m{predictors.shape[1]} predictors\\033[0m and \\033[34;1m{concrete_data.shape[1]-predictors.shape[1]} target\\033[0m for {predictors.shape[0]} observations.\")\nprint(f\"There are \\033[1m{X_train.shape[0]} observations\\033[0m in the training set and \\033[1m{X_test.shape[0]}\\033[0m in the test set.\")"
        },
        {
            "cell_type": "code",
            "execution_count": 6,
            "metadata": {},
            "outputs": [
                {
                    "name": "stdout",
                    "output_type": "stream",
                    "text": "Epoch 1/50\n23/23 [==============================] - 0s 1ms/step - loss: 493803.0039\nEpoch 2/50\n23/23 [==============================] - 0s 1ms/step - loss: 366634.4388\nEpoch 3/50\n23/23 [==============================] - 0s 1ms/step - loss: 269211.2474\nEpoch 4/50\n23/23 [==============================] - 0s 1ms/step - loss: 208698.0306\nEpoch 5/50\n23/23 [==============================] - 0s 1ms/step - loss: 163156.5579\nEpoch 6/50\n23/23 [==============================] - 0s 1ms/step - loss: 120373.4593\nEpoch 7/50\n23/23 [==============================] - 0s 1ms/step - loss: 87748.2279\nEpoch 8/50\n23/23 [==============================] - 0s 1ms/step - loss: 60701.0299\nEpoch 9/50\n23/23 [==============================] - 0s 1ms/step - loss: 40199.2814\nEpoch 10/50\n23/23 [==============================] - 0s 1ms/step - loss: 25735.2869\nEpoch 11/50\n23/23 [==============================] - 0s 984us/step - loss: 15318.7901\nEpoch 12/50\n23/23 [==============================] - 0s 998us/step - loss: 8627.0385\nEpoch 13/50\n23/23 [==============================] - 0s 957us/step - loss: 5745.6042\nEpoch 14/50\n23/23 [==============================] - 0s 972us/step - loss: 4182.6130\nEpoch 15/50\n23/23 [==============================] - 0s 1ms/step - loss: 3562.1373\nEpoch 16/50\n23/23 [==============================] - 0s 1ms/step - loss: 3240.3566\nEpoch 17/50\n23/23 [==============================] - 0s 1ms/step - loss: 3204.8346\nEpoch 18/50\n23/23 [==============================] - 0s 1ms/step - loss: 2984.0795\nEpoch 19/50\n23/23 [==============================] - 0s 992us/step - loss: 3018.3169\nEpoch 20/50\n23/23 [==============================] - 0s 1000us/step - loss: 2913.7903\nEpoch 21/50\n23/23 [==============================] - 0s 1ms/step - loss: 3035.3157\nEpoch 22/50\n23/23 [==============================] - 0s 998us/step - loss: 2931.3638\nEpoch 23/50\n23/23 [==============================] - 0s 1ms/step - loss: 2851.2345\nEpoch 24/50\n23/23 [==============================] - 0s 1ms/step - loss: 2681.9084\nEpoch 25/50\n23/23 [==============================] - 0s 1ms/step - loss: 2758.5810\nEpoch 26/50\n23/23 [==============================] - 0s 1ms/step - loss: 2845.0709\nEpoch 27/50\n23/23 [==============================] - 0s 1ms/step - loss: 2660.3242\nEpoch 28/50\n23/23 [==============================] - 0s 988us/step - loss: 2701.2187\nEpoch 29/50\n23/23 [==============================] - 0s 944us/step - loss: 2701.1693\nEpoch 30/50\n23/23 [==============================] - 0s 1ms/step - loss: 2529.7143\nEpoch 31/50\n23/23 [==============================] - 0s 929us/step - loss: 2661.8671\nEpoch 32/50\n23/23 [==============================] - 0s 994us/step - loss: 2490.6684\nEpoch 33/50\n23/23 [==============================] - 0s 965us/step - loss: 2547.0741\nEpoch 34/50\n23/23 [==============================] - 0s 970us/step - loss: 2476.5155\nEpoch 35/50\n23/23 [==============================] - 0s 950us/step - loss: 2480.5196\nEpoch 36/50\n23/23 [==============================] - 0s 943us/step - loss: 2391.4033\nEpoch 37/50\n23/23 [==============================] - 0s 951us/step - loss: 2504.1438\nEpoch 38/50\n23/23 [==============================] - 0s 945us/step - loss: 2278.9191\nEpoch 39/50\n23/23 [==============================] - 0s 941us/step - loss: 2109.6059\nEpoch 40/50\n23/23 [==============================] - 0s 1ms/step - loss: 2270.4904\nEpoch 41/50\n23/23 [==============================] - 0s 947us/step - loss: 2309.9179\nEpoch 42/50\n23/23 [==============================] - 0s 939us/step - loss: 2256.3263\nEpoch 43/50\n23/23 [==============================] - 0s 1ms/step - loss: 2158.4240\nEpoch 44/50\n23/23 [==============================] - 0s 981us/step - loss: 1912.7000\nEpoch 45/50\n23/23 [==============================] - 0s 980us/step - loss: 2134.6490\nEpoch 46/50\n23/23 [==============================] - 0s 955us/step - loss: 2037.0842\nEpoch 47/50\n23/23 [==============================] - 0s 1ms/step - loss: 1910.8355\nEpoch 48/50\n23/23 [==============================] - 0s 969us/step - loss: 2054.2502\nEpoch 49/50\n23/23 [==============================] - 0s 1ms/step - loss: 1851.7377\nEpoch 50/50\n23/23 [==============================] - 0s 1ms/step - loss: 2006.5106\n"
                },
                {
                    "data": {
                        "text/plain": "<tensorflow.python.keras.callbacks.History at 0x7f9fec56fed0>"
                    },
                    "execution_count": 6,
                    "metadata": {},
                    "output_type": "execute_result"
                }
            ],
            "source": "# 2. Model and training - A\nmodel = Sequential()\nmodel.add(Dense(10,activation='relu',input_shape=(n_cols,)))\nmodel.add(Dense(1))\n\nmodel.compile(optimizer='adam',loss='mean_squared_error')\n\nmodel.fit(X_train,y_train,epochs=50)"
        },
        {
            "cell_type": "code",
            "execution_count": 7,
            "metadata": {},
            "outputs": [
                {
                    "name": "stdout",
                    "output_type": "stream",
                    "text": "The mean squared error of this model is \u001b[1m1579.626\u001b[0m.\n"
                }
            ],
            "source": "# 3. Model evaluation - A\nfrom sklearn.metrics import mean_squared_error\na_baseline_mse = mean_squared_error(y_test,model.predict(X_test))\n\nprint(f\"The mean squared error of this model is \\033[1m{round(a_baseline_mse,3)}\\033[0m.\")"
        },
        {
            "cell_type": "code",
            "execution_count": 8,
            "metadata": {},
            "outputs": [
                {
                    "name": "stdout",
                    "output_type": "stream",
                    "text": "\u001b[1mComputation of the mean squared error number 50\u001b[0m.\nEpoch 1/50\n23/23 [==============================] - 0s 1ms/step - loss: 252167.5365\nEpoch 2/50\n23/23 [==============================] - 0s 1ms/step - loss: 161816.7331\nEpoch 3/50\n23/23 [==============================] - 0s 1ms/step - loss: 101572.5579\nEpoch 4/50\n23/23 [==============================] - 0s 1ms/step - loss: 64235.9818\nEpoch 5/50\n23/23 [==============================] - 0s 1ms/step - loss: 43956.4072\nEpoch 6/50\n23/23 [==============================] - 0s 1ms/step - loss: 30341.3819\nEpoch 7/50\n23/23 [==============================] - 0s 1ms/step - loss: 21382.3013\nEpoch 8/50\n23/23 [==============================] - 0s 1ms/step - loss: 15891.6378\nEpoch 9/50\n23/23 [==============================] - 0s 1ms/step - loss: 12262.1980\nEpoch 10/50\n23/23 [==============================] - 0s 988us/step - loss: 9368.2510\nEpoch 11/50\n23/23 [==============================] - 0s 976us/step - loss: 7549.4468\nEpoch 12/50\n23/23 [==============================] - 0s 1ms/step - loss: 5870.5594\nEpoch 13/50\n23/23 [==============================] - 0s 1ms/step - loss: 4711.5412\nEpoch 14/50\n23/23 [==============================] - 0s 1ms/step - loss: 3879.8821\nEpoch 15/50\n23/23 [==============================] - 0s 1ms/step - loss: 3197.1317\nEpoch 16/50\n23/23 [==============================] - 0s 964us/step - loss: 2633.2918\nEpoch 17/50\n23/23 [==============================] - 0s 1ms/step - loss: 2106.4113\nEpoch 18/50\n23/23 [==============================] - 0s 980us/step - loss: 1767.0454\nEpoch 19/50\n23/23 [==============================] - 0s 1ms/step - loss: 1412.0320\nEpoch 20/50\n23/23 [==============================] - 0s 1ms/step - loss: 1178.2513\nEpoch 21/50\n23/23 [==============================] - 0s 985us/step - loss: 979.4894\nEpoch 22/50\n23/23 [==============================] - 0s 1ms/step - loss: 836.7188\nEpoch 23/50\n23/23 [==============================] - 0s 988us/step - loss: 789.6495\nEpoch 24/50\n23/23 [==============================] - 0s 975us/step - loss: 572.6450\nEpoch 25/50\n23/23 [==============================] - 0s 962us/step - loss: 537.0804\nEpoch 26/50\n23/23 [==============================] - 0s 974us/step - loss: 472.0163\nEpoch 27/50\n23/23 [==============================] - 0s 996us/step - loss: 431.7746\nEpoch 28/50\n23/23 [==============================] - 0s 981us/step - loss: 435.7888\nEpoch 29/50\n23/23 [==============================] - 0s 994us/step - loss: 370.1583\nEpoch 30/50\n23/23 [==============================] - 0s 1ms/step - loss: 366.0878\nEpoch 31/50\n23/23 [==============================] - 0s 1ms/step - loss: 330.7751\nEpoch 32/50\n23/23 [==============================] - 0s 973us/step - loss: 369.6013\nEpoch 33/50\n23/23 [==============================] - 0s 987us/step - loss: 304.1389\nEpoch 34/50\n23/23 [==============================] - 0s 1ms/step - loss: 321.4254\nEpoch 35/50\n23/23 [==============================] - 0s 954us/step - loss: 332.3643\nEpoch 36/50\n23/23 [==============================] - 0s 962us/step - loss: 309.1125\nEpoch 37/50\n23/23 [==============================] - 0s 959us/step - loss: 316.6115\nEpoch 38/50\n23/23 [==============================] - 0s 982us/step - loss: 312.8325\nEpoch 39/50\n23/23 [==============================] - 0s 1ms/step - loss: 302.2383\nEpoch 40/50\n23/23 [==============================] - 0s 962us/step - loss: 281.9549\nEpoch 41/50\n23/23 [==============================] - 0s 981us/step - loss: 276.5552\nEpoch 42/50\n23/23 [==============================] - 0s 1ms/step - loss: 292.4626\nEpoch 43/50\n23/23 [==============================] - 0s 1ms/step - loss: 287.5639\nEpoch 44/50\n23/23 [==============================] - 0s 1ms/step - loss: 271.2735\nEpoch 45/50\n23/23 [==============================] - 0s 1ms/step - loss: 284.9783\nEpoch 46/50\n23/23 [==============================] - 0s 2ms/step - loss: 284.9088\nEpoch 47/50\n23/23 [==============================] - 0s 1ms/step - loss: 276.5651\nEpoch 48/50\n23/23 [==============================] - 0s 1ms/step - loss: 277.9826\nEpoch 49/50\n23/23 [==============================] - 0s 1ms/step - loss: 274.5810\nEpoch 50/50\n23/23 [==============================] - 0s 1ms/step - loss: 285.6776\n"
                }
            ],
            "source": "# 4. Repeat 50 times - A\nfrom IPython.display import clear_output\n\nmse_50_baseline = []\n\nfor x in range(1,51):\n    clear_output(wait=True)\n    print(f\"\\033[1mComputation of the mean squared error number {x}\\033[0m.\")\n    \n    X_train, X_test, y_train, y_test = train_test_split(predictors, target, test_size=0.3)\n    model = Sequential()\n    model.add(Dense(10,activation='relu',input_shape=(n_cols,)))\n    model.add(Dense(1))\n\n    model.compile(optimizer='adam',loss='mean_squared_error')\n\n    model.fit(X_train,y_train,epochs=50)\n    \n    mse_50_baseline.append(mean_squared_error(y_test,model.predict(X_test)))"
        },
        {
            "cell_type": "code",
            "execution_count": 9,
            "metadata": {},
            "outputs": [
                {
                    "name": "stdout",
                    "output_type": "stream",
                    "text": "The mean of 50 mean squared errors for this model is \u001b[31;1m362.602\u001b[0m.\nThe standard deviation of those mean squared errors is \u001b[31;1m413.498\u001b[0m.\n"
                }
            ],
            "source": "# 5. Mean and standard deviation - A\nimport statistics\n\nmean_baseline_mse = sum(mse_50_baseline)/len(mse_50_baseline)\nstdev_baseline_mse = statistics.stdev(mse_50_baseline)\n\nprint(f\"The mean of {len(mse_50_baseline)} mean squared errors for this model is \\033[31;1m{round(mean_baseline_mse,3)}\\033[0m.\\nThe standard deviation of those mean squared errors is \\033[31;1m{round(stdev_baseline_mse,3)}\\033[0m.\")"
        },
        {
            "cell_type": "markdown",
            "metadata": {},
            "source": "### B. Normalize the data (5 marks) \n\nRepeat Part A but use a normalized version of the data. Recall that one way to normalize the data is by subtracting the mean from the individual predictors and dividing by the standard deviation.\n\nHow does the mean of the mean squared errors compare to that from Step A?\n\n"
        },
        {
            "cell_type": "code",
            "execution_count": 10,
            "metadata": {},
            "outputs": [
                {
                    "name": "stdout",
                    "output_type": "stream",
                    "text": "2.4.0\n"
                }
            ],
            "source": "# Importing libraries / keras is not available in IBM Watson Studio a solution can be to use tensorflow to import it\nimport tensorflow.keras as keras\n\nfrom tensorflow.keras.models import Sequential\nfrom tensorflow.keras.layers import Dense\n\nprint(keras.__version__)"
        },
        {
            "cell_type": "code",
            "execution_count": 11,
            "metadata": {},
            "outputs": [
                {
                    "name": "stdout",
                    "output_type": "stream",
                    "text": "There are \u001b[36;1m8 predictors\u001b[0m and \u001b[34;1m1 target\u001b[0m for 1030 observations.\nThere are \u001b[1m721 observations\u001b[0m in the training set and \u001b[1m309\u001b[0m in the test set.\n"
                }
            ],
            "source": "# 1. Data preparation - B\nfrom sklearn.model_selection import train_test_split\n\npredictors_normalized = (predictors - predictors.mean()) / predictors.std()\n\nX_train, X_test, y_train, y_test = train_test_split(predictors_normalized, target, test_size=0.3)\n\nprint(f\"There are \\033[36;1m{predictors.shape[1]} predictors\\033[0m and \\033[34;1m{concrete_data.shape[1]-predictors.shape[1]} target\\033[0m for {predictors.shape[0]} observations.\")\nprint(f\"There are \\033[1m{X_train.shape[0]} observations\\033[0m in the training set and \\033[1m{X_test.shape[0]}\\033[0m in the test set.\")"
        },
        {
            "cell_type": "code",
            "execution_count": 12,
            "metadata": {},
            "outputs": [
                {
                    "name": "stdout",
                    "output_type": "stream",
                    "text": "Epoch 1/50\n23/23 [==============================] - 0s 1ms/step - loss: 1575.4791\nEpoch 2/50\n23/23 [==============================] - 0s 1ms/step - loss: 1581.2774\nEpoch 3/50\n23/23 [==============================] - 0s 1ms/step - loss: 1513.4618\nEpoch 4/50\n23/23 [==============================] - 0s 1ms/step - loss: 1473.7180\nEpoch 5/50\n23/23 [==============================] - 0s 1ms/step - loss: 1538.7964\nEpoch 6/50\n23/23 [==============================] - 0s 1ms/step - loss: 1529.5487\nEpoch 7/50\n23/23 [==============================] - 0s 978us/step - loss: 1417.3263\nEpoch 8/50\n23/23 [==============================] - 0s 981us/step - loss: 1403.9275\nEpoch 9/50\n23/23 [==============================] - 0s 1ms/step - loss: 1442.2812\nEpoch 10/50\n23/23 [==============================] - 0s 996us/step - loss: 1325.6571\nEpoch 11/50\n23/23 [==============================] - 0s 1ms/step - loss: 1314.4049\nEpoch 12/50\n23/23 [==============================] - 0s 1ms/step - loss: 1316.4839\nEpoch 13/50\n23/23 [==============================] - 0s 1ms/step - loss: 1276.0692\nEpoch 14/50\n23/23 [==============================] - 0s 1ms/step - loss: 1340.6860\nEpoch 15/50\n23/23 [==============================] - 0s 1ms/step - loss: 1241.7935\nEpoch 16/50\n23/23 [==============================] - 0s 1ms/step - loss: 1217.2571\nEpoch 17/50\n23/23 [==============================] - 0s 994us/step - loss: 1170.3782\nEpoch 18/50\n23/23 [==============================] - 0s 975us/step - loss: 1238.8584\nEpoch 19/50\n23/23 [==============================] - 0s 934us/step - loss: 1160.3136\nEpoch 20/50\n23/23 [==============================] - 0s 937us/step - loss: 1174.1133\nEpoch 21/50\n23/23 [==============================] - 0s 940us/step - loss: 1144.9800\nEpoch 22/50\n23/23 [==============================] - 0s 940us/step - loss: 1067.5859\nEpoch 23/50\n23/23 [==============================] - 0s 958us/step - loss: 1071.8300\nEpoch 24/50\n23/23 [==============================] - 0s 933us/step - loss: 982.6901\nEpoch 25/50\n23/23 [==============================] - 0s 911us/step - loss: 979.9330\nEpoch 26/50\n23/23 [==============================] - 0s 942us/step - loss: 987.3910\nEpoch 27/50\n23/23 [==============================] - 0s 954us/step - loss: 937.4851\nEpoch 28/50\n23/23 [==============================] - 0s 952us/step - loss: 895.2739\nEpoch 29/50\n23/23 [==============================] - 0s 976us/step - loss: 864.2837\nEpoch 30/50\n23/23 [==============================] - 0s 990us/step - loss: 760.5048\nEpoch 31/50\n23/23 [==============================] - 0s 981us/step - loss: 811.8279\nEpoch 32/50\n23/23 [==============================] - 0s 935us/step - loss: 751.2496\nEpoch 33/50\n23/23 [==============================] - 0s 946us/step - loss: 707.8899\nEpoch 34/50\n23/23 [==============================] - 0s 937us/step - loss: 746.1835\nEpoch 35/50\n23/23 [==============================] - 0s 971us/step - loss: 697.0501\nEpoch 36/50\n23/23 [==============================] - 0s 956us/step - loss: 644.4730\nEpoch 37/50\n23/23 [==============================] - 0s 959us/step - loss: 641.0967\nEpoch 38/50\n23/23 [==============================] - 0s 959us/step - loss: 585.9740\nEpoch 39/50\n23/23 [==============================] - 0s 962us/step - loss: 572.7485\nEpoch 40/50\n23/23 [==============================] - 0s 1ms/step - loss: 553.7040\nEpoch 41/50\n23/23 [==============================] - 0s 945us/step - loss: 505.4907\nEpoch 42/50\n23/23 [==============================] - 0s 961us/step - loss: 497.8316\nEpoch 43/50\n23/23 [==============================] - 0s 1ms/step - loss: 488.5188\nEpoch 44/50\n23/23 [==============================] - 0s 1ms/step - loss: 467.4686\nEpoch 45/50\n23/23 [==============================] - 0s 1ms/step - loss: 462.0922\nEpoch 46/50\n23/23 [==============================] - 0s 1ms/step - loss: 419.5035\nEpoch 47/50\n23/23 [==============================] - 0s 994us/step - loss: 411.0733\nEpoch 48/50\n23/23 [==============================] - 0s 1ms/step - loss: 373.4512\nEpoch 49/50\n23/23 [==============================] - 0s 1ms/step - loss: 360.8741\nEpoch 50/50\n23/23 [==============================] - 0s 997us/step - loss: 344.3750\n"
                },
                {
                    "data": {
                        "text/plain": "<tensorflow.python.keras.callbacks.History at 0x7f9fc01e7890>"
                    },
                    "execution_count": 12,
                    "metadata": {},
                    "output_type": "execute_result"
                }
            ],
            "source": "# 2. Model and training - B\nmodel_norm = Sequential()\nmodel_norm.add(Dense(10,activation='relu',input_shape=(n_cols,)))\nmodel_norm.add(Dense(1))\n\nmodel_norm.compile(optimizer='adam',loss='mean_squared_error')\n\nmodel_norm.fit(X_train,y_train,epochs=50)"
        },
        {
            "cell_type": "code",
            "execution_count": 13,
            "metadata": {},
            "outputs": [
                {
                    "name": "stdout",
                    "output_type": "stream",
                    "text": "The mean squared error of this model is \u001b[1m325.377\u001b[0m.\n"
                }
            ],
            "source": "# 3. Model evaluation - B\nfrom sklearn.metrics import mean_squared_error\na_normalized_mse = mean_squared_error(y_test,model_norm.predict(X_test))\n\nprint(f\"The mean squared error of this model is \\033[1m{round(a_normalized_mse,3)}\\033[0m.\")"
        },
        {
            "cell_type": "code",
            "execution_count": 14,
            "metadata": {
                "scrolled": true
            },
            "outputs": [
                {
                    "name": "stdout",
                    "output_type": "stream",
                    "text": "\u001b[1mComputation of the mean squared error number 50\u001b[0m.\nEpoch 1/50\n23/23 [==============================] - 0s 1ms/step - loss: 1537.5313\nEpoch 2/50\n23/23 [==============================] - 0s 1ms/step - loss: 1455.6163\nEpoch 3/50\n23/23 [==============================] - 0s 1ms/step - loss: 1535.9461\nEpoch 4/50\n23/23 [==============================] - 0s 1ms/step - loss: 1409.8341\nEpoch 5/50\n23/23 [==============================] - 0s 1ms/step - loss: 1502.8641\nEpoch 6/50\n23/23 [==============================] - 0s 1ms/step - loss: 1525.4738\nEpoch 7/50\n23/23 [==============================] - 0s 984us/step - loss: 1429.5640\nEpoch 8/50\n23/23 [==============================] - 0s 964us/step - loss: 1388.8598\nEpoch 9/50\n23/23 [==============================] - 0s 971us/step - loss: 1425.1318\nEpoch 10/50\n23/23 [==============================] - 0s 1ms/step - loss: 1402.0682\nEpoch 11/50\n23/23 [==============================] - 0s 995us/step - loss: 1344.7265\nEpoch 12/50\n23/23 [==============================] - 0s 952us/step - loss: 1295.2173\nEpoch 13/50\n23/23 [==============================] - 0s 1ms/step - loss: 1350.2496\nEpoch 14/50\n23/23 [==============================] - 0s 1ms/step - loss: 1250.1637\nEpoch 15/50\n23/23 [==============================] - 0s 1ms/step - loss: 1245.5338\nEpoch 16/50\n23/23 [==============================] - 0s 993us/step - loss: 1266.5206\nEpoch 17/50\n23/23 [==============================] - 0s 1ms/step - loss: 1183.0467\nEpoch 18/50\n23/23 [==============================] - 0s 992us/step - loss: 1121.6576\nEpoch 19/50\n23/23 [==============================] - 0s 968us/step - loss: 1100.0754\nEpoch 20/50\n23/23 [==============================] - 0s 992us/step - loss: 1075.7494\nEpoch 21/50\n23/23 [==============================] - 0s 1ms/step - loss: 1038.3241\nEpoch 22/50\n23/23 [==============================] - 0s 1ms/step - loss: 961.3637\nEpoch 23/50\n23/23 [==============================] - 0s 1ms/step - loss: 929.8460\nEpoch 24/50\n23/23 [==============================] - 0s 1ms/step - loss: 919.6067\nEpoch 25/50\n23/23 [==============================] - 0s 1ms/step - loss: 927.5897\nEpoch 26/50\n23/23 [==============================] - 0s 1ms/step - loss: 930.6000\nEpoch 27/50\n23/23 [==============================] - 0s 1ms/step - loss: 889.1876\nEpoch 28/50\n23/23 [==============================] - 0s 981us/step - loss: 838.1502\nEpoch 29/50\n23/23 [==============================] - 0s 994us/step - loss: 839.4238\nEpoch 30/50\n23/23 [==============================] - 0s 969us/step - loss: 762.6030\nEpoch 31/50\n23/23 [==============================] - 0s 991us/step - loss: 725.3759\nEpoch 32/50\n23/23 [==============================] - 0s 1ms/step - loss: 710.4397\nEpoch 33/50\n23/23 [==============================] - 0s 961us/step - loss: 692.7083\nEpoch 34/50\n23/23 [==============================] - 0s 1ms/step - loss: 605.0364\nEpoch 35/50\n23/23 [==============================] - 0s 1ms/step - loss: 613.6806\nEpoch 36/50\n23/23 [==============================] - 0s 1ms/step - loss: 568.9803\nEpoch 37/50\n23/23 [==============================] - 0s 1ms/step - loss: 543.3261\nEpoch 38/50\n23/23 [==============================] - 0s 978us/step - loss: 512.5421\nEpoch 39/50\n23/23 [==============================] - 0s 977us/step - loss: 503.0976\nEpoch 40/50\n23/23 [==============================] - 0s 989us/step - loss: 448.6525\nEpoch 41/50\n23/23 [==============================] - 0s 941us/step - loss: 426.7630\nEpoch 42/50\n23/23 [==============================] - 0s 940us/step - loss: 431.4149\nEpoch 43/50\n23/23 [==============================] - 0s 956us/step - loss: 407.4643\nEpoch 44/50\n23/23 [==============================] - 0s 976us/step - loss: 398.3001\nEpoch 45/50\n23/23 [==============================] - 0s 968us/step - loss: 372.4611\nEpoch 46/50\n23/23 [==============================] - 0s 957us/step - loss: 354.2116\nEpoch 47/50\n23/23 [==============================] - 0s 984us/step - loss: 331.9738\nEpoch 48/50\n23/23 [==============================] - 0s 968us/step - loss: 313.8076\nEpoch 49/50\n23/23 [==============================] - 0s 923us/step - loss: 306.3298\nEpoch 50/50\n23/23 [==============================] - 0s 983us/step - loss: 286.3326\n"
                }
            ],
            "source": "# 4. Repeat 50 times - B\nfrom IPython.display import clear_output\n\nmse_50_norm = []\n\nfor x in range(1,51):\n    clear_output(wait=True)\n    print(f\"\\033[1mComputation of the mean squared error number {x}\\033[0m.\")\n    \n    X_train, X_test, y_train, y_test = train_test_split(predictors_normalized, target, test_size=0.3)\n    model_norm = Sequential()\n    model_norm.add(Dense(10,activation='relu',input_shape=(n_cols,)))\n    model_norm.add(Dense(1))\n\n    model_norm.compile(optimizer='adam',loss='mean_squared_error')\n\n    model_norm.fit(X_train,y_train,epochs=50)\n    \n    mse_50_norm.append(mean_squared_error(y_test,model_norm.predict(X_test)))"
        },
        {
            "cell_type": "code",
            "execution_count": 15,
            "metadata": {},
            "outputs": [
                {
                    "name": "stdout",
                    "output_type": "stream",
                    "text": "\u001b[1mBaseline model :\u001b[0m\nThe mean of 50 mean squared errors for the baseline model is \u001b[31;1m362.602\u001b[0m.\nThe standard deviation of those mean squared errors is \u001b[31;1m413.498\u001b[0m.\n\u001b[1mNormalized model :\u001b[0m\nThe mean of 50 mean squared errors for the \u001b[1mnormalized\u001b[0m model is \u001b[31;1m344.294\u001b[0m.\nThe standard deviation of those mean squared errors is \u001b[31;1m90.853\u001b[0m.\n\n\nThe mean of 50 mean squared errors decreased by \u001b[1m18.308.\u001b[0m\nThe standard deviation of 50 mean squared errors decreased by \u001b[1m322.645.\u001b[0m\n"
                }
            ],
            "source": "# 5. Mean and standard deviation - B\nimport statistics\n\nmean_normalized_mse = sum(mse_50_norm)/len(mse_50_norm)\nstdev_normalized_mse = statistics.stdev(mse_50_norm)\n\nprint(\"\\033[1mBaseline model :\\033[0m\")\nprint(f\"The mean of 50 mean squared errors for the baseline model is \\033[31;1m{round(mean_baseline_mse,3)}\\033[0m.\\nThe standard deviation of those mean squared errors is \\033[31;1m{round(stdev_baseline_mse,3)}\\033[0m.\")\nprint(\"\\033[1mNormalized model :\\033[0m\")\nprint(f\"The mean of 50 mean squared errors for the \\033[1mnormalized\\033[0m model is \\033[31;1m{round(mean_normalized_mse,3)}\\033[0m.\\nThe standard deviation of those mean squared errors is \\033[31;1m{round(stdev_normalized_mse,3)}\\033[0m.\")\nprint(f\"\\n\\nThe mean of 50 mean squared errors decreased by \\033[1m{round(mean_baseline_mse-mean_normalized_mse,3)}.\\033[0m\")\nprint(f\"The standard deviation of 50 mean squared errors decreased by \\033[1m{round(stdev_baseline_mse-stdev_normalized_mse,3)}.\\033[0m\")"
        },
        {
            "cell_type": "markdown",
            "metadata": {},
            "source": "### C. Increate the number of epochs (5 marks)\n\nRepeat Part B but use 100 epochs this time for training.\n\nHow does the mean of the mean squared errors compare to that from Step B?"
        },
        {
            "cell_type": "code",
            "execution_count": 16,
            "metadata": {},
            "outputs": [
                {
                    "name": "stdout",
                    "output_type": "stream",
                    "text": "2.4.0\n"
                }
            ],
            "source": "# Importing libraries / keras is not available in IBM Watson Studio a solution can be to use tensorflow to import it\nimport tensorflow.keras as keras\n\nfrom tensorflow.keras.models import Sequential\nfrom tensorflow.keras.layers import Dense\n\nprint(keras.__version__)"
        },
        {
            "cell_type": "code",
            "execution_count": 17,
            "metadata": {},
            "outputs": [
                {
                    "name": "stdout",
                    "output_type": "stream",
                    "text": "There are \u001b[36;1m8 predictors\u001b[0m and \u001b[34;1m1 target\u001b[0m for 1030 observations.\nThere are \u001b[1m721 observations\u001b[0m in the training set and \u001b[1m309\u001b[0m in the test set.\n"
                }
            ],
            "source": "# 1. Data preparation - C\nfrom sklearn.model_selection import train_test_split\n\npredictors_normalized = (predictors - predictors.mean()) / predictors.std()\n\nX_train, X_test, y_train, y_test = train_test_split(predictors_normalized, target, test_size=0.3)\n\nprint(f\"There are \\033[36;1m{predictors.shape[1]} predictors\\033[0m and \\033[34;1m{concrete_data.shape[1]-predictors.shape[1]} target\\033[0m for {predictors.shape[0]} observations.\")\nprint(f\"There are \\033[1m{X_train.shape[0]} observations\\033[0m in the training set and \\033[1m{X_test.shape[0]}\\033[0m in the test set.\")"
        },
        {
            "cell_type": "code",
            "execution_count": 18,
            "metadata": {
                "scrolled": true
            },
            "outputs": [
                {
                    "name": "stdout",
                    "output_type": "stream",
                    "text": "Epoch 1/100\n23/23 [==============================] - 0s 1ms/step - loss: 1570.6958\nEpoch 2/100\n23/23 [==============================] - 0s 1ms/step - loss: 1604.1187\nEpoch 3/100\n23/23 [==============================] - 0s 1ms/step - loss: 1552.4546\nEpoch 4/100\n23/23 [==============================] - 0s 1ms/step - loss: 1559.9518\nEpoch 5/100\n23/23 [==============================] - 0s 1ms/step - loss: 1600.0328\nEpoch 6/100\n23/23 [==============================] - 0s 1ms/step - loss: 1462.8701\nEpoch 7/100\n23/23 [==============================] - 0s 974us/step - loss: 1492.3104\nEpoch 8/100\n23/23 [==============================] - 0s 994us/step - loss: 1481.3554\nEpoch 9/100\n23/23 [==============================] - 0s 1ms/step - loss: 1395.2833\nEpoch 10/100\n23/23 [==============================] - 0s 943us/step - loss: 1490.2453\nEpoch 11/100\n23/23 [==============================] - 0s 914us/step - loss: 1387.4063\nEpoch 12/100\n23/23 [==============================] - 0s 962us/step - loss: 1418.8730\nEpoch 13/100\n23/23 [==============================] - 0s 963us/step - loss: 1343.2307\nEpoch 14/100\n23/23 [==============================] - 0s 963us/step - loss: 1327.1420\nEpoch 15/100\n23/23 [==============================] - 0s 1ms/step - loss: 1324.7566\nEpoch 16/100\n23/23 [==============================] - 0s 982us/step - loss: 1229.2834\nEpoch 17/100\n23/23 [==============================] - 0s 956us/step - loss: 1253.0510\nEpoch 18/100\n23/23 [==============================] - 0s 969us/step - loss: 1176.5363\nEpoch 19/100\n23/23 [==============================] - 0s 1ms/step - loss: 1146.5122\nEpoch 20/100\n23/23 [==============================] - 0s 949us/step - loss: 1065.5572\nEpoch 21/100\n23/23 [==============================] - 0s 973us/step - loss: 1057.3522\nEpoch 22/100\n23/23 [==============================] - 0s 990us/step - loss: 1056.6962\nEpoch 23/100\n23/23 [==============================] - 0s 966us/step - loss: 1023.0574\nEpoch 24/100\n23/23 [==============================] - 0s 960us/step - loss: 912.6439\nEpoch 25/100\n23/23 [==============================] - 0s 990us/step - loss: 935.9330\nEpoch 26/100\n23/23 [==============================] - 0s 995us/step - loss: 889.4481\nEpoch 27/100\n23/23 [==============================] - 0s 943us/step - loss: 901.3615\nEpoch 28/100\n23/23 [==============================] - 0s 995us/step - loss: 853.7002\nEpoch 29/100\n23/23 [==============================] - 0s 1ms/step - loss: 815.5708\nEpoch 30/100\n23/23 [==============================] - 0s 958us/step - loss: 743.1741\nEpoch 31/100\n23/23 [==============================] - 0s 988us/step - loss: 701.7619\nEpoch 32/100\n23/23 [==============================] - 0s 1ms/step - loss: 683.1080\nEpoch 33/100\n23/23 [==============================] - 0s 980us/step - loss: 691.9599\nEpoch 34/100\n23/23 [==============================] - 0s 988us/step - loss: 659.3452\nEpoch 35/100\n23/23 [==============================] - 0s 1ms/step - loss: 618.3278\nEpoch 36/100\n23/23 [==============================] - 0s 988us/step - loss: 571.5206\nEpoch 37/100\n23/23 [==============================] - 0s 983us/step - loss: 514.1128\nEpoch 38/100\n23/23 [==============================] - 0s 1ms/step - loss: 531.3618\nEpoch 39/100\n23/23 [==============================] - 0s 991us/step - loss: 508.3891\nEpoch 40/100\n23/23 [==============================] - 0s 987us/step - loss: 502.5536\nEpoch 41/100\n23/23 [==============================] - 0s 993us/step - loss: 469.4898\nEpoch 42/100\n23/23 [==============================] - 0s 989us/step - loss: 461.8771\nEpoch 43/100\n23/23 [==============================] - 0s 1ms/step - loss: 418.8754\nEpoch 44/100\n23/23 [==============================] - 0s 1ms/step - loss: 392.4162\nEpoch 45/100\n23/23 [==============================] - 0s 973us/step - loss: 402.7445\nEpoch 46/100\n23/23 [==============================] - 0s 934us/step - loss: 352.8438\nEpoch 47/100\n23/23 [==============================] - 0s 1ms/step - loss: 379.8879\nEpoch 48/100\n23/23 [==============================] - 0s 982us/step - loss: 334.5881\nEpoch 49/100\n23/23 [==============================] - 0s 1ms/step - loss: 364.7933\nEpoch 50/100\n23/23 [==============================] - 0s 1ms/step - loss: 290.2497\nEpoch 51/100\n23/23 [==============================] - 0s 1ms/step - loss: 302.5689\nEpoch 52/100\n23/23 [==============================] - 0s 960us/step - loss: 315.7569\nEpoch 53/100\n23/23 [==============================] - 0s 996us/step - loss: 298.9835\nEpoch 54/100\n23/23 [==============================] - 0s 936us/step - loss: 282.2560\nEpoch 55/100\n23/23 [==============================] - 0s 1ms/step - loss: 266.0953\nEpoch 56/100\n23/23 [==============================] - 0s 1ms/step - loss: 277.0456\nEpoch 57/100\n23/23 [==============================] - 0s 1ms/step - loss: 244.0638\nEpoch 58/100\n23/23 [==============================] - 0s 1ms/step - loss: 244.5999\nEpoch 59/100\n23/23 [==============================] - 0s 962us/step - loss: 230.6987\nEpoch 60/100\n23/23 [==============================] - 0s 961us/step - loss: 236.4995\nEpoch 61/100\n23/23 [==============================] - 0s 944us/step - loss: 233.5813\nEpoch 62/100\n23/23 [==============================] - 0s 986us/step - loss: 230.3931\nEpoch 63/100\n23/23 [==============================] - 0s 954us/step - loss: 215.6797\nEpoch 64/100\n23/23 [==============================] - 0s 957us/step - loss: 215.0904\nEpoch 65/100\n23/23 [==============================] - 0s 936us/step - loss: 199.0594\nEpoch 66/100\n23/23 [==============================] - 0s 964us/step - loss: 207.2652\nEpoch 67/100\n23/23 [==============================] - 0s 971us/step - loss: 204.8303\nEpoch 68/100\n23/23 [==============================] - 0s 980us/step - loss: 204.3035\nEpoch 69/100\n23/23 [==============================] - 0s 1ms/step - loss: 184.3270\nEpoch 70/100\n23/23 [==============================] - 0s 1ms/step - loss: 188.2599\nEpoch 71/100\n23/23 [==============================] - 0s 988us/step - loss: 190.5452\nEpoch 72/100\n23/23 [==============================] - 0s 1ms/step - loss: 195.4902\nEpoch 73/100\n23/23 [==============================] - 0s 1ms/step - loss: 199.4142\nEpoch 74/100\n23/23 [==============================] - 0s 999us/step - loss: 187.8622\nEpoch 75/100\n23/23 [==============================] - 0s 1ms/step - loss: 182.3808\nEpoch 76/100\n23/23 [==============================] - 0s 959us/step - loss: 172.9704\nEpoch 77/100\n23/23 [==============================] - 0s 990us/step - loss: 178.9493\nEpoch 78/100\n23/23 [==============================] - 0s 1ms/step - loss: 198.8553\nEpoch 79/100\n23/23 [==============================] - 0s 1ms/step - loss: 177.6313\nEpoch 80/100\n23/23 [==============================] - 0s 905us/step - loss: 173.8211\nEpoch 81/100\n23/23 [==============================] - 0s 925us/step - loss: 168.6481\nEpoch 82/100\n23/23 [==============================] - 0s 1ms/step - loss: 178.4317\nEpoch 83/100\n23/23 [==============================] - 0s 945us/step - loss: 161.5620\nEpoch 84/100\n23/23 [==============================] - 0s 935us/step - loss: 175.0003\nEpoch 85/100\n23/23 [==============================] - 0s 945us/step - loss: 172.3456\nEpoch 86/100\n23/23 [==============================] - 0s 952us/step - loss: 156.7691\nEpoch 87/100\n23/23 [==============================] - 0s 927us/step - loss: 168.8963\nEpoch 88/100\n23/23 [==============================] - 0s 939us/step - loss: 167.7423\nEpoch 89/100\n23/23 [==============================] - 0s 954us/step - loss: 155.3558\nEpoch 90/100\n23/23 [==============================] - 0s 944us/step - loss: 152.1573\nEpoch 91/100\n23/23 [==============================] - 0s 1ms/step - loss: 147.8504\nEpoch 92/100\n23/23 [==============================] - 0s 943us/step - loss: 157.1052\nEpoch 93/100\n23/23 [==============================] - 0s 945us/step - loss: 162.1104\nEpoch 94/100\n23/23 [==============================] - 0s 1ms/step - loss: 157.4562\nEpoch 95/100\n23/23 [==============================] - 0s 992us/step - loss: 164.0825\nEpoch 96/100\n23/23 [==============================] - 0s 1ms/step - loss: 154.1305\nEpoch 97/100\n23/23 [==============================] - 0s 951us/step - loss: 154.6690\nEpoch 98/100\n23/23 [==============================] - 0s 1ms/step - loss: 159.8763\nEpoch 99/100\n23/23 [==============================] - 0s 967us/step - loss: 154.7649\nEpoch 100/100\n23/23 [==============================] - 0s 935us/step - loss: 159.2772\n"
                },
                {
                    "data": {
                        "text/plain": "<tensorflow.python.keras.callbacks.History at 0x7f9fc02bd510>"
                    },
                    "execution_count": 18,
                    "metadata": {},
                    "output_type": "execute_result"
                }
            ],
            "source": "# 2. Model and training - C\nmodel_epoch = Sequential()\nmodel_epoch.add(Dense(10,activation='relu',input_shape=(n_cols,)))\nmodel_epoch.add(Dense(1))\n\nmodel_epoch.compile(optimizer='adam',loss='mean_squared_error')\n\nmodel_epoch.fit(X_train,y_train,epochs=100)"
        },
        {
            "cell_type": "code",
            "execution_count": 19,
            "metadata": {},
            "outputs": [
                {
                    "name": "stdout",
                    "output_type": "stream",
                    "text": "The mean squared error of this model is \u001b[1m150.884\u001b[0m.\n"
                }
            ],
            "source": "# 3. Model evaluation - C\nfrom sklearn.metrics import mean_squared_error\na_epoch_mse = mean_squared_error(y_test,model_epoch.predict(X_test))\n\nprint(f\"The mean squared error of this model is \\033[1m{round(a_epoch_mse,3)}\\033[0m.\")"
        },
        {
            "cell_type": "code",
            "execution_count": 20,
            "metadata": {
                "scrolled": false
            },
            "outputs": [
                {
                    "name": "stdout",
                    "output_type": "stream",
                    "text": "\u001b[1mComputation of the mean squared error number 50\u001b[0m.\nEpoch 1/100\n23/23 [==============================] - 0s 1ms/step - loss: 1546.6357\nEpoch 2/100\n23/23 [==============================] - 0s 1ms/step - loss: 1556.3419\nEpoch 3/100\n23/23 [==============================] - 0s 1ms/step - loss: 1513.1657\nEpoch 4/100\n23/23 [==============================] - 0s 1ms/step - loss: 1589.8198\nEpoch 5/100\n23/23 [==============================] - 0s 981us/step - loss: 1555.6290\nEpoch 6/100\n23/23 [==============================] - 0s 1ms/step - loss: 1552.8096\nEpoch 7/100\n23/23 [==============================] - 0s 1000us/step - loss: 1480.3831\nEpoch 8/100\n23/23 [==============================] - 0s 987us/step - loss: 1544.8898\nEpoch 9/100\n23/23 [==============================] - 0s 971us/step - loss: 1410.3342\nEpoch 10/100\n23/23 [==============================] - 0s 1ms/step - loss: 1426.6446\nEpoch 11/100\n23/23 [==============================] - 0s 998us/step - loss: 1395.4434\nEpoch 12/100\n23/23 [==============================] - 0s 1ms/step - loss: 1376.3589\nEpoch 13/100\n23/23 [==============================] - 0s 972us/step - loss: 1421.8479\nEpoch 14/100\n23/23 [==============================] - 0s 1ms/step - loss: 1363.1516\nEpoch 15/100\n23/23 [==============================] - 0s 1ms/step - loss: 1401.2368\nEpoch 16/100\n23/23 [==============================] - 0s 958us/step - loss: 1226.7079\nEpoch 17/100\n23/23 [==============================] - 0s 952us/step - loss: 1313.0721\nEpoch 18/100\n23/23 [==============================] - 0s 982us/step - loss: 1218.9142\nEpoch 19/100\n23/23 [==============================] - 0s 981us/step - loss: 1203.5961\nEpoch 20/100\n23/23 [==============================] - 0s 969us/step - loss: 1173.9768\nEpoch 21/100\n23/23 [==============================] - 0s 956us/step - loss: 1159.8116\nEpoch 22/100\n23/23 [==============================] - 0s 1ms/step - loss: 1139.5864\nEpoch 23/100\n23/23 [==============================] - 0s 997us/step - loss: 1112.8204\nEpoch 24/100\n23/23 [==============================] - 0s 965us/step - loss: 990.4663\nEpoch 25/100\n23/23 [==============================] - 0s 951us/step - loss: 1074.8002\nEpoch 26/100\n23/23 [==============================] - 0s 950us/step - loss: 963.8990\nEpoch 27/100\n23/23 [==============================] - 0s 928us/step - loss: 952.7442\nEpoch 28/100\n23/23 [==============================] - 0s 978us/step - loss: 919.8857\nEpoch 29/100\n23/23 [==============================] - 0s 1ms/step - loss: 808.4312\nEpoch 30/100\n23/23 [==============================] - 0s 1ms/step - loss: 851.2123\nEpoch 31/100\n23/23 [==============================] - 0s 987us/step - loss: 800.1769\nEpoch 32/100\n23/23 [==============================] - 0s 1ms/step - loss: 722.1153\nEpoch 33/100\n23/23 [==============================] - 0s 1ms/step - loss: 743.6777\nEpoch 34/100\n23/23 [==============================] - 0s 1ms/step - loss: 724.6705\nEpoch 35/100\n23/23 [==============================] - 0s 1ms/step - loss: 646.1976\nEpoch 36/100\n23/23 [==============================] - 0s 995us/step - loss: 583.7479\nEpoch 37/100\n23/23 [==============================] - 0s 1ms/step - loss: 551.9990\nEpoch 38/100\n23/23 [==============================] - 0s 1ms/step - loss: 585.1637\nEpoch 39/100\n23/23 [==============================] - 0s 1ms/step - loss: 502.2648\nEpoch 40/100\n23/23 [==============================] - 0s 1ms/step - loss: 480.6632\nEpoch 41/100\n23/23 [==============================] - 0s 1ms/step - loss: 470.2375\nEpoch 42/100\n23/23 [==============================] - 0s 1ms/step - loss: 429.0884\nEpoch 43/100\n23/23 [==============================] - 0s 983us/step - loss: 411.1102\nEpoch 44/100\n23/23 [==============================] - 0s 953us/step - loss: 364.7276\nEpoch 45/100\n23/23 [==============================] - 0s 949us/step - loss: 368.4165\nEpoch 46/100\n23/23 [==============================] - 0s 954us/step - loss: 365.6355\nEpoch 47/100\n23/23 [==============================] - 0s 937us/step - loss: 328.4798\nEpoch 48/100\n23/23 [==============================] - 0s 945us/step - loss: 305.5673\nEpoch 49/100\n23/23 [==============================] - 0s 940us/step - loss: 323.2677\nEpoch 50/100\n23/23 [==============================] - 0s 937us/step - loss: 281.7189\nEpoch 51/100\n23/23 [==============================] - 0s 958us/step - loss: 274.5481\nEpoch 52/100\n23/23 [==============================] - 0s 935us/step - loss: 253.2065\nEpoch 53/100\n23/23 [==============================] - 0s 980us/step - loss: 268.0986\nEpoch 54/100\n23/23 [==============================] - 0s 961us/step - loss: 267.8410\nEpoch 55/100\n23/23 [==============================] - 0s 997us/step - loss: 257.4979\nEpoch 56/100\n23/23 [==============================] - 0s 1ms/step - loss: 245.4883\nEpoch 57/100\n23/23 [==============================] - 0s 1ms/step - loss: 231.8621\nEpoch 58/100\n23/23 [==============================] - 0s 1ms/step - loss: 232.1555\nEpoch 59/100\n23/23 [==============================] - 0s 1ms/step - loss: 225.5687\nEpoch 60/100\n23/23 [==============================] - 0s 980us/step - loss: 227.3351\nEpoch 61/100\n23/23 [==============================] - 0s 986us/step - loss: 229.1631\nEpoch 62/100\n23/23 [==============================] - 0s 982us/step - loss: 224.1078\nEpoch 63/100\n23/23 [==============================] - 0s 985us/step - loss: 204.8228\nEpoch 64/100\n23/23 [==============================] - 0s 990us/step - loss: 215.0583\nEpoch 65/100\n23/23 [==============================] - 0s 957us/step - loss: 204.4314\nEpoch 66/100\n23/23 [==============================] - 0s 1ms/step - loss: 205.8768\nEpoch 67/100\n23/23 [==============================] - 0s 986us/step - loss: 201.9637\nEpoch 68/100\n23/23 [==============================] - 0s 1ms/step - loss: 195.7455\nEpoch 69/100\n23/23 [==============================] - 0s 1ms/step - loss: 185.6292\nEpoch 70/100\n23/23 [==============================] - 0s 991us/step - loss: 204.1533\nEpoch 71/100\n23/23 [==============================] - 0s 944us/step - loss: 191.3898\nEpoch 72/100\n23/23 [==============================] - 0s 917us/step - loss: 180.9798\nEpoch 73/100\n23/23 [==============================] - 0s 900us/step - loss: 178.7031\nEpoch 74/100\n23/23 [==============================] - 0s 927us/step - loss: 181.5301\nEpoch 75/100\n23/23 [==============================] - 0s 923us/step - loss: 185.4058\nEpoch 76/100\n23/23 [==============================] - 0s 969us/step - loss: 180.5621\nEpoch 77/100\n23/23 [==============================] - 0s 1ms/step - loss: 171.7166\nEpoch 78/100\n23/23 [==============================] - 0s 1ms/step - loss: 180.8645\nEpoch 79/100\n23/23 [==============================] - 0s 1ms/step - loss: 181.0009\nEpoch 80/100\n23/23 [==============================] - 0s 1ms/step - loss: 186.8485\nEpoch 81/100\n23/23 [==============================] - 0s 1ms/step - loss: 173.8974\nEpoch 82/100\n23/23 [==============================] - 0s 950us/step - loss: 160.4905\nEpoch 83/100\n23/23 [==============================] - 0s 940us/step - loss: 174.7022\nEpoch 84/100\n23/23 [==============================] - 0s 917us/step - loss: 165.5776\nEpoch 85/100\n23/23 [==============================] - 0s 973us/step - loss: 170.4924\nEpoch 86/100\n23/23 [==============================] - 0s 970us/step - loss: 168.2999\nEpoch 87/100\n23/23 [==============================] - 0s 1ms/step - loss: 157.4168\nEpoch 88/100\n23/23 [==============================] - 0s 965us/step - loss: 167.9559\nEpoch 89/100\n23/23 [==============================] - 0s 951us/step - loss: 162.8613\nEpoch 90/100\n23/23 [==============================] - 0s 946us/step - loss: 163.5218\nEpoch 91/100\n23/23 [==============================] - 0s 1ms/step - loss: 162.6975\nEpoch 92/100\n23/23 [==============================] - 0s 999us/step - loss: 161.6851\nEpoch 93/100\n23/23 [==============================] - 0s 1ms/step - loss: 143.9249\nEpoch 94/100\n23/23 [==============================] - 0s 1ms/step - loss: 161.0138\nEpoch 95/100\n23/23 [==============================] - 0s 952us/step - loss: 153.1350\nEpoch 96/100\n23/23 [==============================] - 0s 1ms/step - loss: 163.6825\nEpoch 97/100\n23/23 [==============================] - 0s 995us/step - loss: 172.7308\nEpoch 98/100\n23/23 [==============================] - 0s 1ms/step - loss: 149.3298\nEpoch 99/100\n23/23 [==============================] - 0s 985us/step - loss: 157.2932\nEpoch 100/100\n23/23 [==============================] - 0s 1000us/step - loss: 154.8873\n"
                }
            ],
            "source": "# 4. Repeat 50 times - C\nfrom IPython.display import clear_output\n\nmse_50_epoch = []\n\nfor x in range(1,51):\n    clear_output(wait=True)\n    print(f\"\\033[1mComputation of the mean squared error number {x}\\033[0m.\")\n    \n    X_train, X_test, y_train, y_test = train_test_split(predictors_normalized, target, test_size=0.3)\n    model_epoch = Sequential()\n    model_epoch.add(Dense(10,activation='relu',input_shape=(n_cols,)))\n    model_epoch.add(Dense(1))\n\n    model_epoch.compile(optimizer='adam',loss='mean_squared_error')\n\n    model_epoch.fit(X_train,y_train,epochs=100)\n    \n    mse_50_epoch.append(mean_squared_error(y_test,model_epoch.predict(X_test)))"
        },
        {
            "cell_type": "code",
            "execution_count": 21,
            "metadata": {},
            "outputs": [
                {
                    "name": "stdout",
                    "output_type": "stream",
                    "text": "\u001b[1mBaseline model :\u001b[0m\nThe mean of 50 mean squared errors for the baseline model is \u001b[31;1m362.602\u001b[0m.\nThe standard deviation of those mean squared errors is \u001b[31;1m413.498\u001b[0m.\n\u001b[1mNormalized model :\u001b[0m\nThe mean of 50 mean squared errors for the \u001b[1mnormalized\u001b[0m model is \u001b[31;1m344.294\u001b[0m.\nThe standard deviation of those mean squared errors is \u001b[31;1m90.853\u001b[0m.\n\u001b[1m100 Epochs model :\u001b[0m\nThe mean of 50 mean squared errors for the \u001b[1m100 Epochs\u001b[0m model is \u001b[31;1m163.472\u001b[0m.\nThe standard deviation of those mean squared errors is \u001b[31;1m15.294\u001b[0m.\n\n\nThe mean of 50 mean squared errors decreased by \u001b[1m180.823\u001b[0m compared to the normalized approach.\nThe standard deviation of 50 mean squared errors decreased by \u001b[1m75.56\u001b[0m compared to the normalized approach.\n"
                }
            ],
            "source": "# 5. Mean and standard deviation - C\nimport statistics\n\nmean_epoch_mse = sum(mse_50_epoch)/len(mse_50_epoch)\nstdev_epoch_mse = statistics.stdev(mse_50_epoch)\n\nprint(\"\\033[1mBaseline model :\\033[0m\")\nprint(f\"The mean of 50 mean squared errors for the baseline model is \\033[31;1m{round(mean_baseline_mse,3)}\\033[0m.\\nThe standard deviation of those mean squared errors is \\033[31;1m{round(stdev_baseline_mse,3)}\\033[0m.\")\nprint(\"\\033[1mNormalized model :\\033[0m\")\nprint(f\"The mean of 50 mean squared errors for the \\033[1mnormalized\\033[0m model is \\033[31;1m{round(mean_normalized_mse,3)}\\033[0m.\\nThe standard deviation of those mean squared errors is \\033[31;1m{round(stdev_normalized_mse,3)}\\033[0m.\")\nprint(\"\\033[1m100 Epochs model :\\033[0m\")\nprint(f\"The mean of 50 mean squared errors for the \\033[1m100 Epochs\\033[0m model is \\033[31;1m{round(mean_epoch_mse,3)}\\033[0m.\\nThe standard deviation of those mean squared errors is \\033[31;1m{round(stdev_epoch_mse,3)}\\033[0m.\")\nprint(f\"\\n\\nThe mean of 50 mean squared errors decreased by \\033[1m{round(mean_normalized_mse-mean_epoch_mse,3)}\\033[0m compared to the normalized approach.\")\nprint(f\"The standard deviation of 50 mean squared errors decreased by \\033[1m{round(stdev_normalized_mse-stdev_epoch_mse,3)}\\033[0m compared to the normalized approach.\")"
        },
        {
            "cell_type": "markdown",
            "metadata": {},
            "source": "### D. Increase the number of hidden layers (5 marks)\n\n\nRepeat part B but use a neural network with the following instead:\n\n- Three hidden layers, each of 10 nodes and ReLU activation function.\n\nHow does the mean of the mean squared errors compare to that from Step B?"
        },
        {
            "cell_type": "code",
            "execution_count": 22,
            "metadata": {},
            "outputs": [
                {
                    "name": "stdout",
                    "output_type": "stream",
                    "text": "2.4.0\n"
                }
            ],
            "source": "# Importing libraries / keras is not available in IBM Watson Studio a solution can be to use tensorflow to import it\nimport tensorflow.keras as keras\n\nfrom tensorflow.keras.models import Sequential\nfrom tensorflow.keras.layers import Dense\n\nprint(keras.__version__)"
        },
        {
            "cell_type": "code",
            "execution_count": 23,
            "metadata": {},
            "outputs": [
                {
                    "name": "stdout",
                    "output_type": "stream",
                    "text": "There are \u001b[36;1m8 predictors\u001b[0m and \u001b[34;1m1 target\u001b[0m for 1030 observations.\nThere are \u001b[1m721 observations\u001b[0m in the training set and \u001b[1m309\u001b[0m in the test set.\n"
                }
            ],
            "source": "# 1. Data preparation - D\nfrom sklearn.model_selection import train_test_split\n\npredictors_normalized = (predictors - predictors.mean()) / predictors.std()\n\nX_train, X_test, y_train, y_test = train_test_split(predictors_normalized, target, test_size=0.3)\n\nprint(f\"There are \\033[36;1m{predictors.shape[1]} predictors\\033[0m and \\033[34;1m{concrete_data.shape[1]-predictors.shape[1]} target\\033[0m for {predictors.shape[0]} observations.\")\nprint(f\"There are \\033[1m{X_train.shape[0]} observations\\033[0m in the training set and \\033[1m{X_test.shape[0]}\\033[0m in the test set.\")"
        },
        {
            "cell_type": "code",
            "execution_count": 24,
            "metadata": {
                "scrolled": true
            },
            "outputs": [
                {
                    "name": "stdout",
                    "output_type": "stream",
                    "text": "Epoch 1/100\n23/23 [==============================] - 0s 1ms/step - loss: 1542.9940\nEpoch 2/100\n23/23 [==============================] - 0s 1ms/step - loss: 1574.3975\nEpoch 3/100\n23/23 [==============================] - 0s 1ms/step - loss: 1500.4983\nEpoch 4/100\n23/23 [==============================] - 0s 1ms/step - loss: 1474.0530\nEpoch 5/100\n23/23 [==============================] - 0s 1ms/step - loss: 1420.3033\nEpoch 6/100\n23/23 [==============================] - 0s 1ms/step - loss: 1432.4742\nEpoch 7/100\n23/23 [==============================] - 0s 1ms/step - loss: 1279.8931\nEpoch 8/100\n23/23 [==============================] - 0s 1ms/step - loss: 1147.1779\nEpoch 9/100\n23/23 [==============================] - 0s 1ms/step - loss: 958.6907\nEpoch 10/100\n23/23 [==============================] - 0s 1ms/step - loss: 860.8899\nEpoch 11/100\n23/23 [==============================] - 0s 1ms/step - loss: 584.0983\nEpoch 12/100\n23/23 [==============================] - 0s 1ms/step - loss: 483.0566\nEpoch 13/100\n23/23 [==============================] - 0s 1ms/step - loss: 398.1930\nEpoch 14/100\n23/23 [==============================] - 0s 1ms/step - loss: 307.5065\nEpoch 15/100\n23/23 [==============================] - 0s 1ms/step - loss: 264.3582\nEpoch 16/100\n23/23 [==============================] - 0s 1ms/step - loss: 193.9985\nEpoch 17/100\n23/23 [==============================] - 0s 1ms/step - loss: 200.2981\nEpoch 18/100\n23/23 [==============================] - 0s 1ms/step - loss: 181.9324\nEpoch 19/100\n23/23 [==============================] - 0s 1ms/step - loss: 178.2057\nEpoch 20/100\n23/23 [==============================] - 0s 1ms/step - loss: 169.4667\nEpoch 21/100\n23/23 [==============================] - 0s 1ms/step - loss: 176.4133\nEpoch 22/100\n23/23 [==============================] - 0s 1ms/step - loss: 163.4920\nEpoch 23/100\n23/23 [==============================] - 0s 1ms/step - loss: 168.5820\nEpoch 24/100\n23/23 [==============================] - 0s 1ms/step - loss: 169.2563\nEpoch 25/100\n23/23 [==============================] - 0s 1ms/step - loss: 163.3850\nEpoch 26/100\n23/23 [==============================] - 0s 1ms/step - loss: 148.7028\nEpoch 27/100\n23/23 [==============================] - 0s 1ms/step - loss: 155.8717\nEpoch 28/100\n23/23 [==============================] - 0s 1ms/step - loss: 164.6078\nEpoch 29/100\n23/23 [==============================] - 0s 1ms/step - loss: 156.8406\nEpoch 30/100\n23/23 [==============================] - 0s 1ms/step - loss: 150.5543\nEpoch 31/100\n23/23 [==============================] - 0s 1ms/step - loss: 145.7409\nEpoch 32/100\n23/23 [==============================] - 0s 1ms/step - loss: 165.2000\nEpoch 33/100\n23/23 [==============================] - 0s 1ms/step - loss: 133.1785\nEpoch 34/100\n23/23 [==============================] - 0s 1ms/step - loss: 140.1464\nEpoch 35/100\n23/23 [==============================] - 0s 1ms/step - loss: 141.0257\nEpoch 36/100\n23/23 [==============================] - 0s 1ms/step - loss: 136.1847\nEpoch 37/100\n23/23 [==============================] - 0s 1ms/step - loss: 135.9047\nEpoch 38/100\n23/23 [==============================] - 0s 1ms/step - loss: 136.9159\nEpoch 39/100\n23/23 [==============================] - 0s 1ms/step - loss: 132.8811\nEpoch 40/100\n23/23 [==============================] - 0s 1ms/step - loss: 133.2350\nEpoch 41/100\n23/23 [==============================] - 0s 1ms/step - loss: 134.7656\nEpoch 42/100\n23/23 [==============================] - 0s 1ms/step - loss: 120.5519\nEpoch 43/100\n23/23 [==============================] - 0s 983us/step - loss: 139.9942\nEpoch 44/100\n23/23 [==============================] - 0s 990us/step - loss: 133.9424\nEpoch 45/100\n23/23 [==============================] - 0s 1ms/step - loss: 144.1130\nEpoch 46/100\n23/23 [==============================] - 0s 1ms/step - loss: 124.4376\nEpoch 47/100\n23/23 [==============================] - 0s 1ms/step - loss: 133.8078\nEpoch 48/100\n23/23 [==============================] - 0s 1ms/step - loss: 133.8259\nEpoch 49/100\n23/23 [==============================] - 0s 996us/step - loss: 129.0059\nEpoch 50/100\n23/23 [==============================] - 0s 1ms/step - loss: 121.4013\nEpoch 51/100\n23/23 [==============================] - 0s 1ms/step - loss: 122.1365\nEpoch 52/100\n23/23 [==============================] - 0s 980us/step - loss: 125.0717\nEpoch 53/100\n23/23 [==============================] - 0s 1ms/step - loss: 125.2113\nEpoch 54/100\n23/23 [==============================] - 0s 969us/step - loss: 124.6843\nEpoch 55/100\n23/23 [==============================] - 0s 985us/step - loss: 125.3990\nEpoch 56/100\n23/23 [==============================] - 0s 990us/step - loss: 116.7127\nEpoch 57/100\n23/23 [==============================] - 0s 999us/step - loss: 116.4781\nEpoch 58/100\n23/23 [==============================] - 0s 1ms/step - loss: 114.5731\nEpoch 59/100\n23/23 [==============================] - 0s 994us/step - loss: 119.9010\nEpoch 60/100\n23/23 [==============================] - 0s 987us/step - loss: 112.9183\nEpoch 61/100\n23/23 [==============================] - 0s 968us/step - loss: 130.0295\nEpoch 62/100\n23/23 [==============================] - 0s 1ms/step - loss: 116.5039\nEpoch 63/100\n23/23 [==============================] - 0s 993us/step - loss: 111.5816\nEpoch 64/100\n23/23 [==============================] - 0s 1ms/step - loss: 104.9558\nEpoch 65/100\n23/23 [==============================] - 0s 1ms/step - loss: 112.3179\nEpoch 66/100\n23/23 [==============================] - 0s 1ms/step - loss: 114.0377\nEpoch 67/100\n23/23 [==============================] - 0s 1ms/step - loss: 111.1480\nEpoch 68/100\n23/23 [==============================] - 0s 1ms/step - loss: 105.5270\nEpoch 69/100\n23/23 [==============================] - 0s 1ms/step - loss: 100.2592\nEpoch 70/100\n23/23 [==============================] - 0s 1ms/step - loss: 104.2958\nEpoch 71/100\n23/23 [==============================] - 0s 1ms/step - loss: 102.1260\nEpoch 72/100\n23/23 [==============================] - 0s 1ms/step - loss: 106.7617\nEpoch 73/100\n23/23 [==============================] - 0s 1ms/step - loss: 98.6047\nEpoch 74/100\n23/23 [==============================] - 0s 1ms/step - loss: 97.1326\nEpoch 75/100\n23/23 [==============================] - 0s 1ms/step - loss: 96.7017\nEpoch 76/100\n23/23 [==============================] - 0s 1ms/step - loss: 93.8918\nEpoch 77/100\n23/23 [==============================] - 0s 1ms/step - loss: 95.5894\nEpoch 78/100\n23/23 [==============================] - 0s 1ms/step - loss: 82.2753\nEpoch 79/100\n23/23 [==============================] - 0s 1ms/step - loss: 81.2347\nEpoch 80/100\n23/23 [==============================] - 0s 1ms/step - loss: 92.0713\nEpoch 81/100\n23/23 [==============================] - 0s 1ms/step - loss: 86.6531\nEpoch 82/100\n23/23 [==============================] - 0s 996us/step - loss: 74.8695\nEpoch 83/100\n23/23 [==============================] - 0s 989us/step - loss: 83.5287\nEpoch 84/100\n23/23 [==============================] - 0s 1ms/step - loss: 78.4250\nEpoch 85/100\n23/23 [==============================] - 0s 1ms/step - loss: 75.7042\nEpoch 86/100\n23/23 [==============================] - 0s 1ms/step - loss: 76.6701\nEpoch 87/100\n23/23 [==============================] - 0s 1ms/step - loss: 78.6388\nEpoch 88/100\n23/23 [==============================] - 0s 1ms/step - loss: 69.8416\nEpoch 89/100\n23/23 [==============================] - 0s 1ms/step - loss: 73.3161\nEpoch 90/100\n23/23 [==============================] - 0s 1ms/step - loss: 65.0612\nEpoch 91/100\n23/23 [==============================] - 0s 1ms/step - loss: 74.7367\nEpoch 92/100\n23/23 [==============================] - 0s 2ms/step - loss: 71.0429\nEpoch 93/100\n23/23 [==============================] - 0s 1ms/step - loss: 69.2253\nEpoch 94/100\n23/23 [==============================] - 0s 1ms/step - loss: 59.8153\nEpoch 95/100\n23/23 [==============================] - 0s 990us/step - loss: 58.8945\nEpoch 96/100\n23/23 [==============================] - 0s 1ms/step - loss: 54.8398\nEpoch 97/100\n23/23 [==============================] - 0s 1ms/step - loss: 60.2779\nEpoch 98/100\n23/23 [==============================] - 0s 997us/step - loss: 57.4234\nEpoch 99/100\n23/23 [==============================] - 0s 1ms/step - loss: 57.9218\nEpoch 100/100\n23/23 [==============================] - 0s 1ms/step - loss: 55.9952\n"
                },
                {
                    "data": {
                        "text/plain": "<tensorflow.python.keras.callbacks.History at 0x7f9f98723210>"
                    },
                    "execution_count": 24,
                    "metadata": {},
                    "output_type": "execute_result"
                }
            ],
            "source": "# 2. Model and training - D\nmodel_hidden = Sequential()\nmodel_hidden.add(Dense(10,activation='relu',input_shape=(n_cols,)))\nmodel_hidden.add(Dense(10,activation='relu'))\nmodel_hidden.add(Dense(10,activation='relu'))\nmodel_hidden.add(Dense(1))\n\nmodel_hidden.compile(optimizer='adam',loss='mean_squared_error')\n\nmodel_hidden.fit(X_train,y_train,epochs=100)"
        },
        {
            "cell_type": "code",
            "execution_count": 25,
            "metadata": {},
            "outputs": [
                {
                    "name": "stdout",
                    "output_type": "stream",
                    "text": "The mean squared error of this model is \u001b[1m71.39\u001b[0m.\n"
                }
            ],
            "source": "# 3. Model evaluation - D\nfrom sklearn.metrics import mean_squared_error\na_hidden_mse = mean_squared_error(y_test,model_hidden.predict(X_test))\n\nprint(f\"The mean squared error of this model is \\033[1m{round(a_hidden_mse,3)}\\033[0m.\")"
        },
        {
            "cell_type": "code",
            "execution_count": 26,
            "metadata": {
                "scrolled": false
            },
            "outputs": [
                {
                    "name": "stdout",
                    "output_type": "stream",
                    "text": "\u001b[1mComputation of the mean squared error number 50\u001b[0m.\nEpoch 1/50\n23/23 [==============================] - 0s 1ms/step - loss: 1587.4646\nEpoch 2/50\n23/23 [==============================] - 0s 1ms/step - loss: 1573.1597\nEpoch 3/50\n23/23 [==============================] - 0s 1ms/step - loss: 1506.8170\nEpoch 4/50\n23/23 [==============================] - 0s 1ms/step - loss: 1528.2488\nEpoch 5/50\n23/23 [==============================] - 0s 1ms/step - loss: 1433.5510\nEpoch 6/50\n23/23 [==============================] - 0s 1ms/step - loss: 1429.5229\nEpoch 7/50\n23/23 [==============================] - 0s 1ms/step - loss: 1222.6056\nEpoch 8/50\n23/23 [==============================] - 0s 1ms/step - loss: 1053.0305\nEpoch 9/50\n23/23 [==============================] - 0s 1ms/step - loss: 876.0352\nEpoch 10/50\n23/23 [==============================] - 0s 1ms/step - loss: 689.3966\nEpoch 11/50\n23/23 [==============================] - 0s 1ms/step - loss: 450.4935\nEpoch 12/50\n23/23 [==============================] - 0s 1ms/step - loss: 307.8083\nEpoch 13/50\n23/23 [==============================] - 0s 1ms/step - loss: 248.7393\nEpoch 14/50\n23/23 [==============================] - 0s 1ms/step - loss: 211.6577\nEpoch 15/50\n23/23 [==============================] - 0s 1ms/step - loss: 227.3867\nEpoch 16/50\n23/23 [==============================] - 0s 1ms/step - loss: 208.1833\nEpoch 17/50\n23/23 [==============================] - 0s 1ms/step - loss: 188.7138\nEpoch 18/50\n23/23 [==============================] - 0s 1ms/step - loss: 186.0218\nEpoch 19/50\n23/23 [==============================] - 0s 1ms/step - loss: 169.6722\nEpoch 20/50\n23/23 [==============================] - 0s 1ms/step - loss: 162.2506\nEpoch 21/50\n23/23 [==============================] - 0s 1ms/step - loss: 154.1504\nEpoch 22/50\n23/23 [==============================] - 0s 1ms/step - loss: 165.7370\nEpoch 23/50\n23/23 [==============================] - 0s 1ms/step - loss: 158.8902\nEpoch 24/50\n23/23 [==============================] - 0s 1ms/step - loss: 153.6589\nEpoch 25/50\n23/23 [==============================] - 0s 986us/step - loss: 153.6907\nEpoch 26/50\n23/23 [==============================] - 0s 982us/step - loss: 147.5401\nEpoch 27/50\n23/23 [==============================] - 0s 1ms/step - loss: 152.4970\nEpoch 28/50\n23/23 [==============================] - 0s 1ms/step - loss: 136.8570\nEpoch 29/50\n23/23 [==============================] - 0s 1ms/step - loss: 141.9788\nEpoch 30/50\n23/23 [==============================] - 0s 1ms/step - loss: 141.9745\nEpoch 31/50\n23/23 [==============================] - 0s 1ms/step - loss: 141.9223\nEpoch 32/50\n23/23 [==============================] - 0s 1ms/step - loss: 133.3531\nEpoch 33/50\n23/23 [==============================] - 0s 1ms/step - loss: 133.6571\nEpoch 34/50\n23/23 [==============================] - 0s 1ms/step - loss: 147.1271\nEpoch 35/50\n23/23 [==============================] - 0s 1ms/step - loss: 124.4007\nEpoch 36/50\n23/23 [==============================] - 0s 1ms/step - loss: 139.2259\nEpoch 37/50\n23/23 [==============================] - 0s 1ms/step - loss: 122.9681\nEpoch 38/50\n23/23 [==============================] - 0s 1ms/step - loss: 129.6798\nEpoch 39/50\n23/23 [==============================] - 0s 1ms/step - loss: 127.0371\nEpoch 40/50\n23/23 [==============================] - 0s 1ms/step - loss: 131.3167\nEpoch 41/50\n23/23 [==============================] - 0s 1ms/step - loss: 128.5202\nEpoch 42/50\n23/23 [==============================] - 0s 1ms/step - loss: 134.6658\nEpoch 43/50\n23/23 [==============================] - 0s 1ms/step - loss: 121.3320\nEpoch 44/50\n23/23 [==============================] - 0s 1ms/step - loss: 127.6498\nEpoch 45/50\n23/23 [==============================] - 0s 1ms/step - loss: 129.1007\nEpoch 46/50\n23/23 [==============================] - 0s 1ms/step - loss: 122.0781\nEpoch 47/50\n23/23 [==============================] - 0s 1ms/step - loss: 137.7679\nEpoch 48/50\n23/23 [==============================] - 0s 1ms/step - loss: 120.5790\nEpoch 49/50\n23/23 [==============================] - 0s 1ms/step - loss: 124.8248\nEpoch 50/50\n23/23 [==============================] - 0s 1ms/step - loss: 120.5517\n"
                }
            ],
            "source": "# 4. Repeat 50 times - D\nfrom IPython.display import clear_output\n\nmse_50_hidden = []\n\nfor x in range(1,51):\n    clear_output(wait=True)\n    print(f\"\\033[1mComputation of the mean squared error number {x}\\033[0m.\")\n    \n    X_train, X_test, y_train, y_test = train_test_split(predictors_normalized, target, test_size=0.3)\n    model_hidden = Sequential()\n    model_hidden.add(Dense(10,activation='relu',input_shape=(n_cols,)))\n    model_hidden.add(Dense(10,activation='relu'))\n    model_hidden.add(Dense(10,activation='relu'))\n    model_hidden.add(Dense(1))\n\n    model_hidden.compile(optimizer='adam',loss='mean_squared_error')\n\n    model_hidden.fit(X_train,y_train,epochs=50)\n    \n    mse_50_hidden.append(mean_squared_error(y_test,model_hidden.predict(X_test)))"
        },
        {
            "cell_type": "code",
            "execution_count": 27,
            "metadata": {},
            "outputs": [
                {
                    "name": "stdout",
                    "output_type": "stream",
                    "text": "\u001b[1mBaseline model :\u001b[0m\nThe mean of 50 mean squared errors for the baseline model is \u001b[31;1m362.602\u001b[0m.\nThe standard deviation of those mean squared errors is \u001b[31;1m413.498\u001b[0m.\n\u001b[1mNormalized model :\u001b[0m\nThe mean of 50 mean squared errors for the \u001b[1mnormalized\u001b[0m model is \u001b[31;1m344.294\u001b[0m.\nThe standard deviation of those mean squared errors is \u001b[31;1m90.853\u001b[0m.\n\u001b[1m100 Epochs model :\u001b[0m\nThe mean of 50 mean squared errors for the \u001b[1m100 Epochs\u001b[0m model is \u001b[31;1m163.472\u001b[0m.\nThe standard deviation of those mean squared errors is \u001b[31;1m15.294\u001b[0m.\n\u001b[1m3 hidden layers model :\u001b[0m\nThe mean of 50 mean squared errors for the \u001b[1m3 hidden layers\u001b[0m model is \u001b[31;1m128.493\u001b[0m.\nThe standard deviation of those mean squared errors is \u001b[31;1m16.444\u001b[0m.\n\n\nThe mean of 50 mean squared errors decreased by \u001b[1m215.802\u001b[0m compared to the normalized approach.\nThe standard deviation of 50 mean squared errors decreased by \u001b[1m74.41\u001b[0m compared to the normalized approach.\n"
                }
            ],
            "source": "# 5. Mean and standard deviation - D\nimport statistics\n\nmean_hidden_mse = sum(mse_50_hidden)/len(mse_50_hidden)\nstdev_hidden_mse = statistics.stdev(mse_50_hidden)\n\nprint(\"\\033[1mBaseline model :\\033[0m\")\nprint(f\"The mean of 50 mean squared errors for the baseline model is \\033[31;1m{round(mean_baseline_mse,3)}\\033[0m.\\nThe standard deviation of those mean squared errors is \\033[31;1m{round(stdev_baseline_mse,3)}\\033[0m.\")\nprint(\"\\033[1mNormalized model :\\033[0m\")\nprint(f\"The mean of 50 mean squared errors for the \\033[1mnormalized\\033[0m model is \\033[31;1m{round(mean_normalized_mse,3)}\\033[0m.\\nThe standard deviation of those mean squared errors is \\033[31;1m{round(stdev_normalized_mse,3)}\\033[0m.\")\nprint(\"\\033[1m100 Epochs model :\\033[0m\")\nprint(f\"The mean of 50 mean squared errors for the \\033[1m100 Epochs\\033[0m model is \\033[31;1m{round(mean_epoch_mse,3)}\\033[0m.\\nThe standard deviation of those mean squared errors is \\033[31;1m{round(stdev_epoch_mse,3)}\\033[0m.\")\nprint(\"\\033[1m3 hidden layers model :\\033[0m\")\nprint(f\"The mean of 50 mean squared errors for the \\033[1m3 hidden layers\\033[0m model is \\033[31;1m{round(mean_hidden_mse,3)}\\033[0m.\\nThe standard deviation of those mean squared errors is \\033[31;1m{round(stdev_hidden_mse,3)}\\033[0m.\")\nprint(f\"\\n\\nThe mean of 50 mean squared errors decreased by \\033[1m{round(mean_normalized_mse-mean_hidden_mse,3)}\\033[0m compared to the normalized approach.\")\nprint(f\"The standard deviation of 50 mean squared errors decreased by \\033[1m{round(stdev_normalized_mse-stdev_hidden_mse,3)}\\033[0m compared to the normalized approach.\")"
        }
    ],
    "metadata": {
        "kernelspec": {
            "display_name": "Python 3.7",
            "language": "python",
            "name": "python3"
        },
        "language_info": {
            "codemirror_mode": {
                "name": "ipython",
                "version": 3
            },
            "file_extension": ".py",
            "mimetype": "text/x-python",
            "name": "python",
            "nbconvert_exporter": "python",
            "pygments_lexer": "ipython3",
            "version": "3.7.10"
        }
    },
    "nbformat": 4,
    "nbformat_minor": 1
}